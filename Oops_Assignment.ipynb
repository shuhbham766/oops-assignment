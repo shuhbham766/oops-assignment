{
  "nbformat": 4,
  "nbformat_minor": 0,
  "metadata": {
    "colab": {
      "provenance": []
    },
    "kernelspec": {
      "name": "python3",
      "display_name": "Python 3"
    },
    "language_info": {
      "name": "python"
    }
  },
  "cells": [
    {
      "cell_type": "markdown",
      "source": [
        "# theoretical"
      ],
      "metadata": {
        "id": "CPaxYCcoPBxJ"
      }
    },
    {
      "cell_type": "markdown",
      "source": [
        "# 1.  What is Object-Oriented Programming (OOP)?\n",
        "- Object-Oriented Programming (OOP) is a programming paradigm based on the concept of \"objects\". These objects contain both data (attributes) and functions that operate on that data (methods).\n",
        "- In Object-Oriented Programming, we write classes that represent real-world entities and situations, and we create objects based on these classes. When we define a class, we specify the general behaviors that a whole category of objects can have."
      ],
      "metadata": {
        "id": "OAZilv43PIm0"
      }
    },
    {
      "cell_type": "markdown",
      "source": [
        "Key Concepts of OOP\n",
        "- Class: A blueprint for creating objects. It defines attributes (variables) and behaviors (methods).\n",
        "\n",
        "- Object: An instance of a class with its own state and behavior.\n",
        "\n",
        "- Encapsulation: Hiding the internal details of an object and exposing only necessary functionalities.\n",
        "\n",
        "- Abstraction: Hiding complex implementation details and showing only essential features.\n",
        "\n",
        "- Inheritance: A mechanism that allows a new class (child) to acquire properties and behaviors from an existing class (parent).\n",
        "\n",
        "- Polymorphism: The ability of different objects to respond to the same function in different ways."
      ],
      "metadata": {
        "id": "-G4cmcIqhk3_"
      }
    },
    {
      "cell_type": "code",
      "execution_count": null,
      "metadata": {
        "colab": {
          "base_uri": "https://localhost:8080/"
        },
        "id": "inv0qNgQO2JP",
        "outputId": "e8c6344c-19f8-48d2-fefb-062bf50e45c8"
      },
      "outputs": [
        {
          "output_type": "stream",
          "name": "stdout",
          "text": [
            "Car: Toyota Corolla\n",
            "Car: Honda Civic\n"
          ]
        }
      ],
      "source": [
        "class Car:\n",
        "    def __init__(self, brand, model):\n",
        "        self.brand = brand  # Attribute\n",
        "        self.model = model  # Attribute\n",
        "\n",
        "    def display_info(self):            # Method\n",
        "        print(f\"Car: {self.brand} {self.model}\")\n",
        "\n",
        "# Creating objects\n",
        "car1 = Car(\"Toyota\", \"Corolla\")\n",
        "car2 = Car(\"Honda\", \"Civic\")\n",
        "\n",
        "car1.display_info()\n",
        "car2.display_info()\n"
      ]
    },
    {
      "cell_type": "markdown",
      "source": [
        "# 2.  What is a class in OOP?\n",
        "- In Object-Oriented Programming (OOP), a class is a blueprint or template for creating objects. It defines attributes (variables) and methods (functions) that describe the behavior and properties of the objects.\n",
        "\n",
        "Key Features of a Class:\n",
        "- Encapsulation: A class groups related data and behaviors together.\n",
        "\n",
        "- Reusability: A class can be used to create multiple objects with the same structure.\n",
        "\n",
        "- Scalability: Modifying the class affects all objects derived from it."
      ],
      "metadata": {
        "id": "AIQYvBXUimrz"
      }
    },
    {
      "cell_type": "code",
      "source": [
        "class Car:\n",
        "    def __init__(self, brand, model):\n",
        "        self.brand = brand  # Attribute (Instance Variable)\n",
        "        self.model = model  # Attribute\n",
        "\n",
        "    def display_info(self):  # Method (Function inside a class)\n",
        "        print(f\"Car: {self.brand} {self.model}\")\n",
        "\n",
        "# Creating objects (instances) from the class\n",
        "car1 = Car(\"Toyota\", \"Corolla\")\n",
        "car2 = Car(\"Honda\", \"Civic\")\n",
        "\n",
        "car1.display_info()  # Output: Car: Toyota Corolla\n",
        "car2.display_info()  # Output: Car: Honda Civic\n"
      ],
      "metadata": {
        "colab": {
          "base_uri": "https://localhost:8080/"
        },
        "id": "i5Gjj4koh80Y",
        "outputId": "ffe97834-01b1-4a0a-dc28-bb0b5d60438b"
      },
      "execution_count": null,
      "outputs": [
        {
          "output_type": "stream",
          "name": "stdout",
          "text": [
            "Car: Toyota Corolla\n",
            "Car: Honda Civic\n"
          ]
        }
      ]
    },
    {
      "cell_type": "markdown",
      "source": [
        "* The Car class defines the structure for all cars.\n",
        "* Attributes (brand and model) store data related to each object.\n",
        "* Methods (display_info()) define behaviors for the objects.\n",
        "* Objects (car1 and car2) are created from the class.\n",
        "* A class helps in organizing code efficiently, making it reusable and scalable"
      ],
      "metadata": {
        "id": "mdD8jwoZlo8x"
      }
    },
    {
      "cell_type": "markdown",
      "source": [
        "# 3. What is an object in OOP?\n",
        "- An object is an instance of a class that encapsulates data (attributes) and behavior (methods). It represents a real-world entity in code.\n",
        "- When a class is defined, it acts as a blueprint, and objects are created based on this blueprint."
      ],
      "metadata": {
        "id": "pEpvBN4vjoBF"
      }
    },
    {
      "cell_type": "code",
      "source": [
        "class Car:\n",
        "    def __init__(self, brand, model, color):\n",
        "        self.brand = brand  # Attribute\n",
        "        self.model = model  # Attribute\n",
        "        self.color = color  # Attribute\n",
        "\n",
        "    def honk(self):  # Method (behavior)\n",
        "        print(f\"{self.brand} {self.model} is honking!\")\n",
        "\n",
        "# Creating objects (instances) of the class\n",
        "car1 = Car(\"Toyota\", \"Corolla\", \"Red\")\n",
        "car2 = Car(\"Honda\", \"Civic\", \"Blue\")\n",
        "\n",
        "print(car1.brand)\n",
        "print(car2.color)\n",
        "\n",
        "car1.honk()"
      ],
      "metadata": {
        "colab": {
          "base_uri": "https://localhost:8080/"
        },
        "id": "Yr4w4a-PjjZo",
        "outputId": "8a67298d-c5c0-4e14-e583-71d5bd7edd0e"
      },
      "execution_count": null,
      "outputs": [
        {
          "output_type": "stream",
          "name": "stdout",
          "text": [
            "Toyota\n",
            "Blue\n",
            "Toyota Corolla is honking!\n"
          ]
        }
      ]
    },
    {
      "cell_type": "markdown",
      "source": [
        "* car1 and car2 are objects of the Car class.\n",
        "* Each object has its own unique data (brand, model, color).\n",
        "* Objects can perform actions using methods (honk() in this case).\n",
        "* Objects allow us to create multiple instances of a class, each with its own values, while sharing the same structure and behavior."
      ],
      "metadata": {
        "id": "EwxNjysTlOyA"
      }
    },
    {
      "cell_type": "markdown",
      "source": [
        "# 4. What is the difference between abstraction and encapsulation?\n",
        "- Abstraction = \"Hiding Implementation\", while Encapsulation = \"Hiding Data\".\n",
        "- Abstraction hides implementation details and focuses on what an object does.\n",
        "- Encapsulation protects data by restricting direct access and only allowing controlled modification."
      ],
      "metadata": {
        "id": "bhjFETOllz-d"
      }
    },
    {
      "cell_type": "markdown",
      "source": [
        "a) Abstraction:-\n",
        "- Abstraction is the process of hiding the internal implementation of a system and showing only the essential features.\n",
        "-  It allows you to focus on what an object does rather than how it does it.\n",
        "- purpose:-\n",
        "  - To simplify complexity by exposing only relevant information.\n",
        "- How it is achieved?\n",
        "  - Using abstract classes, interfaces, and methods.\n",
        "- Examples:-\n",
        "  - Hiding \"how\" something works (e.g., a car's engine system is hidden, and only the start button is visible).\n",
        "  - When you use an ATM, you just enter the amount, but you don’t see the internal processing of how money is withdrawn.\n",
        "\n"
      ],
      "metadata": {
        "id": "ZVetpR7uogpP"
      }
    },
    {
      "cell_type": "code",
      "source": [
        "# Abstraction (Hiding Details)\n",
        "\n",
        "from abc import ABC, abstractmethod\n",
        "\n",
        "class Vehicle(ABC):  # Abstract Class\n",
        "    @abstractmethod\n",
        "    def start(self):\n",
        "        pass  # Method to be implemented by subclasses\n",
        "\n",
        "class Car(Vehicle):\n",
        "    def start(self):\n",
        "        print(\"Car engine started with a key or button.\")\n",
        "\n",
        "# car = Vehicle()  # ❌ Cannot create an object of an abstract class\n",
        "car = Car()\n",
        "car.start()  # Output: Car engine started with a key or button.\n",
        "\n",
        "\n",
        "# Here, the Vehicle class is abstract, so we only define the start() method but don't show how it works internally."
      ],
      "metadata": {
        "colab": {
          "base_uri": "https://localhost:8080/"
        },
        "id": "qZvH5I_klOBj",
        "outputId": "d1a2f51d-0a09-403c-f35e-c98118ea1339"
      },
      "execution_count": null,
      "outputs": [
        {
          "output_type": "stream",
          "name": "stdout",
          "text": [
            "Car engine started with a key or button.\n"
          ]
        }
      ]
    },
    {
      "cell_type": "markdown",
      "source": [
        "b) Encapsulation:-\n",
        "- Encapsulation is the process of restricting direct access to certain details of an object and allowing controlled access through methods.\n",
        "- It helps protect data from unauthorized modification.\n",
        "- purpose:-\n",
        "  - To prevent unauthorized access and ensure data integrity.\n",
        "- How it is achieved?\n",
        "  - Using access modifiers (private, protected, public) to hide data.\n",
        "- Examples:-\n",
        "  - Restricting \"who\" can access what (e.g., locking important car components like the engine so they can't be accessed directly).\n",
        "  - Your bank account details are private, and you can't modify your balance directly—only authorized transactions are allowed."
      ],
      "metadata": {
        "id": "SZhJil4iqj64"
      }
    },
    {
      "cell_type": "code",
      "source": [
        "# Encapsulation (Hiding Data)\n",
        "\n",
        "class BankAccount:\n",
        "    def __init__(self, balance):\n",
        "        self.__balance = balance  # Private attribute\n",
        "\n",
        "    def deposit(self, amount):\n",
        "        self.__balance += amount\n",
        "        print(f\"Deposited: {amount}. New Balance: {self.__balance}\")\n",
        "\n",
        "    def withdraw(self, amount):\n",
        "        if amount <= self.__balance:\n",
        "            self.__balance -= amount\n",
        "            print(f\"Withdrawn: {amount}. Remaining Balance: {self.__balance}\")\n",
        "        else:\n",
        "            print(\"Insufficient funds!\")\n",
        "\n",
        "    def get_balance(self):  # Controlled access to balance\n",
        "        return self.__balance\n",
        "\n",
        "# Creating an account\n",
        "account = BankAccount(1000)\n",
        "account.deposit(500)       # Output: Deposited: 500. New Balance: 1500\n",
        "account.withdraw(300)      # Output: Withdrawn: 300. Remaining Balance: 1200\n",
        "# print(account.__balance) # ❌ Error! Cannot access private attribute\n",
        "print(account.get_balance())  # ✅ Output: 1200\n",
        "\n",
        "\n",
        "# Here, __balance is a private attribute, so it cannot be accessed directly. It can only be modified through defined methods."
      ],
      "metadata": {
        "colab": {
          "base_uri": "https://localhost:8080/"
        },
        "id": "7GRPhQQEqMnU",
        "outputId": "59389a7e-1d0f-4533-9eb5-ef2e1e0b4fda"
      },
      "execution_count": null,
      "outputs": [
        {
          "output_type": "stream",
          "name": "stdout",
          "text": [
            "Deposited: 500. New Balance: 1500\n",
            "Withdrawn: 300. Remaining Balance: 1200\n",
            "1200\n"
          ]
        }
      ]
    },
    {
      "cell_type": "markdown",
      "source": [
        "# 5. What are dunder methods in Python?\n",
        "- Dunder methods are special methods or Magic Methods in Python that begin and end with double underscores (__method__).\n",
        "- Why Use Dunder Methods?\n",
        "  - Customize object behavior (e.g., define how an object should be printed).\n",
        "  - Enable operator overloading (e.g., +, -, *, == for objects).\n",
        "  -  Work with built-in Python functions (len(), str(), etc.)."
      ],
      "metadata": {
        "id": "oDZ6q_UqtZYp"
      }
    },
    {
      "cell_type": "code",
      "source": [
        "# (1) __init__ → Constructor (Initialize an Object)\n",
        "\n",
        "class Person:\n",
        "    def __init__(self, name, age):  # Constructor\n",
        "        self.name = name\n",
        "        self.age = age\n",
        "\n",
        "p1 = Person(\"Alice\", 25)  # Automatically calls __init__()\n",
        "print(p1.name, p1.age)  # Output: Alice 25\n",
        "\n",
        "# This initializes attributes when an object is created."
      ],
      "metadata": {
        "colab": {
          "base_uri": "https://localhost:8080/"
        },
        "id": "qfKPfcuvsBFv",
        "outputId": "15c5ac89-6371-4a4a-ed9d-9971f65f7621"
      },
      "execution_count": null,
      "outputs": [
        {
          "output_type": "stream",
          "name": "stdout",
          "text": [
            "Alice 25\n"
          ]
        }
      ]
    },
    {
      "cell_type": "code",
      "source": [
        "# (2) __str__ → String Representation (str(), print())\n",
        "\n",
        "class Car:\n",
        "    def __init__(self, brand, model):\n",
        "        self.brand = brand\n",
        "        self.model = model\n",
        "\n",
        "    def __str__(self):  # Defines what happens when print() is used\n",
        "        return f\"{self.brand} {self.model}\"\n",
        "\n",
        "car = Car(\"Toyota\", \"Corolla\")\n",
        "print(car)  # Output: Toyota Corolla\n",
        "\n",
        "#  Without __str__, printing the object would show a memory address like <__main__.Car object at 0x...>."
      ],
      "metadata": {
        "colab": {
          "base_uri": "https://localhost:8080/"
        },
        "id": "j69rqph0vATb",
        "outputId": "d8ba0adb-1d73-47d1-be29-fa255cee5039"
      },
      "execution_count": null,
      "outputs": [
        {
          "output_type": "stream",
          "name": "stdout",
          "text": [
            "Toyota Corolla\n"
          ]
        }
      ]
    },
    {
      "cell_type": "code",
      "source": [
        "#  (3)  __repr__ → Official String Representation (repr())\n",
        "\n",
        "class Car:\n",
        "    def __init__(self, brand, model):\n",
        "        self.brand = brand\n",
        "        self.model = model\n",
        "\n",
        "    def __repr__(self):\n",
        "        return f\"Car('{self.brand}', '{self.model}')\"\n",
        "\n",
        "car = Car(\"Toyota\", \"Corolla\")\n",
        "print(repr(car))  # Output: Car('Toyota', 'Corolla')\n",
        "\n",
        "#  __repr__ provides a detailed, unambiguous string representation, mainly for debugging."
      ],
      "metadata": {
        "colab": {
          "base_uri": "https://localhost:8080/"
        },
        "id": "zwi-FaZlvO_n",
        "outputId": "314a7cf9-a8c8-4cde-fd79-b848993cbc67"
      },
      "execution_count": null,
      "outputs": [
        {
          "output_type": "stream",
          "name": "stdout",
          "text": [
            "Car('Toyota', 'Corolla')\n"
          ]
        }
      ]
    },
    {
      "cell_type": "code",
      "source": [
        "# (4) __len__ → Define len() for Objects\n",
        "\n",
        "class Playlist:\n",
        "    def __init__(self, songs):\n",
        "        self.songs = songs\n",
        "\n",
        "    def __len__(self):  # Allows len() to be used\n",
        "        return len(self.songs)\n",
        "\n",
        "playlist = Playlist([\"Song1\", \"Song2\", \"Song3\"])\n",
        "print(len(playlist))  # Output: 3\n",
        "\n",
        "# Without __len__, calling len(playlist) would cause an error."
      ],
      "metadata": {
        "colab": {
          "base_uri": "https://localhost:8080/"
        },
        "id": "Bz5cSng6vXkl",
        "outputId": "ac9f8405-ec7c-4b58-eb7e-2e82dad97c13"
      },
      "execution_count": null,
      "outputs": [
        {
          "output_type": "stream",
          "name": "stdout",
          "text": [
            "3\n"
          ]
        }
      ]
    },
    {
      "cell_type": "code",
      "source": [
        "# (5) __add__ → Operator Overloading (+)\n",
        "\n",
        "class Number:\n",
        "    def __init__(self, value):\n",
        "        self.value = value\n",
        "\n",
        "    def __add__(self, other):  # Overloads +\n",
        "        return Number(self.value + other.value)           # returns a new Number object with value = 15.\n",
        "\n",
        "n1 = Number(5)          # n1.value = 5\n",
        "n2 = Number(10)         # n2.value = 10\n",
        "result = n1 + n2        # Calls n1.__add__(n2)    # result = n1.__add__(n2)    # result=Number(value=15)\n",
        "print(result.value)     # Output: 15\n",
        "\n",
        "#  The __add__ method is automatically called when the + operator is used between two Number objects.\n"
      ],
      "metadata": {
        "colab": {
          "base_uri": "https://localhost:8080/"
        },
        "id": "X6zn09CLvmVH",
        "outputId": "3dc251d6-d18f-493d-cba6-d87bb2aea566"
      },
      "execution_count": null,
      "outputs": [
        {
          "output_type": "stream",
          "name": "stdout",
          "text": [
            "15\n"
          ]
        }
      ]
    },
    {
      "cell_type": "code",
      "source": [
        "# (6) __eq__ → Equality Check (==)\n",
        "\n",
        "class Person:\n",
        "    def __init__(self, name, age):\n",
        "        self.name = name\n",
        "        self.age = age\n",
        "\n",
        "    def __eq__(self, other):  # Overloads ==\n",
        "        return self.name == other.name and self.age == other.age\n",
        "\n",
        "p1 = Person(\"Alice\", 25)\n",
        "p2 = Person(\"Alice\", 25)\n",
        "print(p1 == p2)         # Calls p1.__eq__(p2) → True      # True is returned.\n",
        "\n",
        "#  The __eq__ method in Python is automatically called when the == operator is used between two objects.."
      ],
      "metadata": {
        "colab": {
          "base_uri": "https://localhost:8080/"
        },
        "id": "QiFcOHXRvzqx",
        "outputId": "7aa9a8f8-dde6-40f6-a9ab-7c6bfb7a233d"
      },
      "execution_count": null,
      "outputs": [
        {
          "output_type": "stream",
          "name": "stdout",
          "text": [
            "True\n"
          ]
        }
      ]
    },
    {
      "cell_type": "code",
      "source": [
        "# print(n1 == n2)  # False, because they are different objects\n",
        "# Even though n1.value == n2.value, Python sees them as two different objects in memory, so == would return False without __eq__."
      ],
      "metadata": {
        "id": "d4RMzl56MZAR"
      },
      "execution_count": null,
      "outputs": []
    },
    {
      "cell_type": "markdown",
      "source": [
        "# 6.  Explain the concept of inheritance in OOP?\n",
        "- Inheritance is an OOP concept that allows a new class (child class) to inherit the attributes and methods of an existing class (parent class).\n",
        "- It promotes code reusability by avoiding duplicate code.\n",
        "- The child class can add new features or override the inherited ones.\n",
        "\n",
        "- Key Terminology:-\n",
        "  - Parent Class (Super Class, Base Class):- The class whose properties and methods are inherited.\n",
        "  - Child Class (Subclass, Derived Class):- The class that inherits from the parent class.\n",
        "  - Method Overriding\tRedefining a parent class method in the child class."
      ],
      "metadata": {
        "id": "uMOU2z49yRrY"
      }
    },
    {
      "cell_type": "markdown",
      "source": [
        "Types of Inheritance in Python"
      ],
      "metadata": {
        "id": "j-hon5bU0Hbr"
      }
    },
    {
      "cell_type": "code",
      "source": [
        "# (1) Single Inheritance :- One child class inherits from a single parent class.\n",
        "\n",
        "# Parent class\n",
        "class Animal:\n",
        "    def sound(self):\n",
        "        return \"Some sound\"\n",
        "\n",
        "# Child class\n",
        "class Dog(Animal):\n",
        "    def sound(self):  # Overriding\n",
        "        return \"Bark\"\n",
        "\n",
        "dog = Dog()\n",
        "print(dog.sound())  # Output: Bark\n"
      ],
      "metadata": {
        "colab": {
          "base_uri": "https://localhost:8080/"
        },
        "id": "B0DXgyjPv82q",
        "outputId": "8693b1a0-4d5f-4817-b2d1-34b0e0241d07"
      },
      "execution_count": null,
      "outputs": [
        {
          "output_type": "stream",
          "name": "stdout",
          "text": [
            "Bark\n"
          ]
        }
      ]
    },
    {
      "cell_type": "code",
      "source": [
        "# (2) Multiple Inheritance :- A child class inherits from multiple parent classes.\n",
        "\n",
        "# Parent classes\n",
        "class Father:\n",
        "    def wealth(self):\n",
        "        return \"Rich\"\n",
        "\n",
        "class Mother:\n",
        "    def care(self):\n",
        "        return \"Loving\"\n",
        "\n",
        "# Child class inheriting from both Father & Mother\n",
        "class Child(Father, Mother):\n",
        "    pass\n",
        "\n",
        "c = Child()\n",
        "print(c.wealth())  # Output: Rich\n",
        "print(c.care())    # Output: Loving\n",
        "\n",
        "# Problem: If two parent classes have methods with the same name, Method Resolution Order (MRO) determines which method is called."
      ],
      "metadata": {
        "colab": {
          "base_uri": "https://localhost:8080/"
        },
        "id": "Zq5MKH2M0Uf-",
        "outputId": "4c5aeeca-da9c-4ca1-bba8-8c12ed1b83e0"
      },
      "execution_count": null,
      "outputs": [
        {
          "output_type": "stream",
          "name": "stdout",
          "text": [
            "Rich\n",
            "Loving\n"
          ]
        }
      ]
    },
    {
      "cell_type": "code",
      "source": [
        "# (3) Multilevel Inheritance :- A child class inherits from a parent class, which itself inherits from another parent class.\n",
        "\n",
        "class Grandparent:\n",
        "    def legacy(self):\n",
        "        return \"Old Values\"\n",
        "\n",
        "class Parent(Grandparent):\n",
        "    def wisdom(self):\n",
        "        return \"Experience\"\n",
        "\n",
        "class Child(Parent):\n",
        "    def modern_ideas(self):\n",
        "        return \"New Thoughts\"\n",
        "\n",
        "c = Child()\n",
        "print(c.legacy())      # Output: Old Values\n",
        "print(c.wisdom())      # Output: Experience\n",
        "print(c.modern_ideas())  # Output: New Thoughts\n"
      ],
      "metadata": {
        "colab": {
          "base_uri": "https://localhost:8080/"
        },
        "id": "q659g8VA0lgZ",
        "outputId": "8f252e13-3e7a-47d2-e507-c1c20ad02a07"
      },
      "execution_count": null,
      "outputs": [
        {
          "output_type": "stream",
          "name": "stdout",
          "text": [
            "Old Values\n",
            "Experience\n",
            "New Thoughts\n"
          ]
        }
      ]
    },
    {
      "cell_type": "code",
      "source": [
        "# (4) Hierarchical Inheritance :- Multiple child classes inherit from one parent class.\n",
        "\n",
        "class Vehicle:\n",
        "    def mode(self):\n",
        "        return \"Transport\"\n",
        "\n",
        "class Car(Vehicle):\n",
        "    def wheels(self):\n",
        "        return 4\n",
        "\n",
        "class Bike(Vehicle):\n",
        "    def wheels(self):\n",
        "        return 2\n",
        "\n",
        "c = Car()\n",
        "b = Bike()\n",
        "\n",
        "print(c.mode(), c.wheels())  # Output: Transport 4\n",
        "print(b.mode(), b.wheels())  # Output: Transport 2\n"
      ],
      "metadata": {
        "colab": {
          "base_uri": "https://localhost:8080/"
        },
        "id": "DfLTax5P0xIB",
        "outputId": "a95fe94f-7e16-4009-e468-d5745621d509"
      },
      "execution_count": null,
      "outputs": [
        {
          "output_type": "stream",
          "name": "stdout",
          "text": [
            "Transport 4\n",
            "Transport 2\n"
          ]
        }
      ]
    },
    {
      "cell_type": "code",
      "source": [
        "# (5) Hybrid Inheritance :- A combination of multiple inheritance types.\n",
        "\n",
        "class A:\n",
        "    def methodA(self):\n",
        "        return \"Method A\"\n",
        "\n",
        "class B(A):\n",
        "    def methodB(self):\n",
        "        return \"Method B\"\n",
        "\n",
        "class C(A):\n",
        "    def methodC(self):\n",
        "        return \"Method C\"\n",
        "\n",
        "class D(B, C):  # Inheriting from both B and C\n",
        "    pass\n",
        "\n",
        "d = D()\n",
        "print(d.methodA())  # Output: Method A\n",
        "print(d.methodB())  # Output: Method B\n",
        "print(d.methodC())  # Output: Method C\n",
        "\n",
        "#  Python uses Method Resolution Order (MRO) to handle conflicts."
      ],
      "metadata": {
        "colab": {
          "base_uri": "https://localhost:8080/"
        },
        "id": "dgketSNX06qb",
        "outputId": "775fcb36-e84c-45cd-95c7-95d8106f547d"
      },
      "execution_count": null,
      "outputs": [
        {
          "output_type": "stream",
          "name": "stdout",
          "text": [
            "Method A\n",
            "Method B\n",
            "Method C\n"
          ]
        }
      ]
    },
    {
      "cell_type": "code",
      "source": [
        "#  Method Overriding in Inheritance :- A child class can redefine a method from the parent class to modify its behavior.\n",
        "\n",
        "class Parent:\n",
        "    def greet(self):\n",
        "        return \"Hello from Parent\"\n",
        "\n",
        "class Child(Parent):\n",
        "    def greet(self):  # Overriding\n",
        "        return \"Hello from Child\"\n",
        "\n",
        "c = Child()\n",
        "print(c.greet())  # Output: Hello from Child\n",
        "\n",
        "# The child class version overrides the parent class version."
      ],
      "metadata": {
        "colab": {
          "base_uri": "https://localhost:8080/"
        },
        "id": "YFDw9RiG1HJq",
        "outputId": "1d50bb93-d31d-4bf7-ce3f-c6cf3ebd4611"
      },
      "execution_count": null,
      "outputs": [
        {
          "output_type": "stream",
          "name": "stdout",
          "text": [
            "Hello from Child\n"
          ]
        }
      ]
    },
    {
      "cell_type": "code",
      "source": [
        "# Using super() in Inheritance :- The super() function allows calling the parent class's method inside the child class.\n",
        "\n",
        "class Parent:\n",
        "    def greet(self):\n",
        "        return \"Hello from Parent\"\n",
        "\n",
        "class Child(Parent):\n",
        "    def greet(self):\n",
        "        return super().greet() + \" & Hello from Child\"\n",
        "\n",
        "c = Child()\n",
        "print(c.greet())  # Output: Hello from Parent & Hello from Child\n"
      ],
      "metadata": {
        "colab": {
          "base_uri": "https://localhost:8080/"
        },
        "id": "Mk4mb-wlNmZ3",
        "outputId": "6c90e1d7-c37d-4c72-d350-a0a47dba0fe0"
      },
      "execution_count": null,
      "outputs": [
        {
          "output_type": "stream",
          "name": "stdout",
          "text": [
            "Hello from Parent & Hello from Child\n"
          ]
        }
      ]
    },
    {
      "cell_type": "markdown",
      "source": [
        "Benefits of Inheritance\n",
        "- Code Reusability – Reduces code duplication.\n",
        "- Easy Maintenance – Fixing bugs in the parent class applies to all child classes.\n",
        "- Extensibility – New features can be added without modifying the parent class.\n",
        "\n"
      ],
      "metadata": {
        "id": "E5pER-paN4MR"
      }
    },
    {
      "cell_type": "markdown",
      "source": [
        "# 7.  What is polymorphism in OOP?\n",
        "- Polymorphism means \"many forms.\" It allows the same function or operator to work differently based on the object or data type it is applied to.\n",
        "- Benefits of Polymorphism\n",
        "  - Code Reusability – The same function can work with different objects.\n",
        "  - Flexibility – Less code modification when adding new classes.\n",
        "  - Scalability – Easily extend functionalities in large projects."
      ],
      "metadata": {
        "id": "MG6WUSo5OGIC"
      }
    },
    {
      "cell_type": "markdown",
      "source": [
        " Types of Polymorphism in Python"
      ],
      "metadata": {
        "id": "qWCL2LbujM7T"
      }
    },
    {
      "cell_type": "code",
      "source": [
        "# (1) Method Overloading\n",
        "class MathOperations:\n",
        "    def add(self, a, b, c=0):  # Default parameter c=0\n",
        "        return a + b + c\n",
        "\n",
        "math = MathOperations()\n",
        "print(math.add(5, 10))       # Output: 15 (2 arguments)\n",
        "print(math.add(5, 10, 15))   # Output: 30 (3 arguments)\n"
      ],
      "metadata": {
        "colab": {
          "base_uri": "https://localhost:8080/"
        },
        "id": "-zZAK00LNwuO",
        "outputId": "bfc71dd5-c57c-4204-b82a-35319188c658"
      },
      "execution_count": null,
      "outputs": [
        {
          "output_type": "stream",
          "name": "stdout",
          "text": [
            "15\n",
            "30\n"
          ]
        }
      ]
    },
    {
      "cell_type": "code",
      "source": [
        "# (2) Method Overriding (Runtime Polymorphism)\n",
        "class Animal:\n",
        "    def sound(self):\n",
        "        return \"Some sound\"\n",
        "\n",
        "class Dog(Animal):\n",
        "    def sound(self):  # Overriding\n",
        "        return \"Bark\"\n",
        "\n",
        "class Cat(Animal):\n",
        "    def sound(self):  # Overriding\n",
        "        return \"Meow\"\n",
        "\n",
        "# Objects\n",
        "dog = Dog()\n",
        "cat = Cat()\n",
        "\n",
        "print(dog.sound())  # Output: Bark\n",
        "print(cat.sound())  # Output: Meow\n"
      ],
      "metadata": {
        "colab": {
          "base_uri": "https://localhost:8080/"
        },
        "id": "tiH_wXIRjYw-",
        "outputId": "0bcd61cf-5a43-434c-b46c-d0f034c9d895"
      },
      "execution_count": null,
      "outputs": [
        {
          "output_type": "stream",
          "name": "stdout",
          "text": [
            "Bark\n",
            "Meow\n"
          ]
        }
      ]
    },
    {
      "cell_type": "code",
      "source": [
        "# (3) Operator Overloading (Polymorphism using Dunder Methods)\n",
        "class Number:\n",
        "    def __init__(self, value):\n",
        "        self.value = value\n",
        "\n",
        "    def __add__(self, other):  # Overloading +\n",
        "        return Number(self.value + other.value)\n",
        "\n",
        "    def __str__(self):\n",
        "        return str(self.value)\n",
        "\n",
        "n1 = Number(10)\n",
        "n2 = Number(20)\n",
        "result = n1 + n2  # Calls __add__()\n",
        "print(result)  # Output: 30\n"
      ],
      "metadata": {
        "colab": {
          "base_uri": "https://localhost:8080/"
        },
        "id": "us5eOSdSjeji",
        "outputId": "466c2dcb-4530-4100-9654-7c2c3c02070c"
      },
      "execution_count": null,
      "outputs": [
        {
          "output_type": "stream",
          "name": "stdout",
          "text": [
            "30\n"
          ]
        }
      ]
    },
    {
      "cell_type": "code",
      "source": [
        "# (4) Polymorphism with Functions and Objects\n",
        "class Car:\n",
        "    def type(self):\n",
        "        return \"Car\"\n",
        "\n",
        "class Bike:\n",
        "    def type(self):\n",
        "        return \"Bike\"\n",
        "\n",
        "# Function using Polymorphism\n",
        "def vehicle_type(vehicle):\n",
        "    print(vehicle.type())\n",
        "\n",
        "# Calling with different objects\n",
        "c = Car()\n",
        "b = Bike()\n",
        "\n",
        "vehicle_type(c)  # Output: Car\n",
        "vehicle_type(b)  # Output: Bike\n"
      ],
      "metadata": {
        "colab": {
          "base_uri": "https://localhost:8080/"
        },
        "id": "sxBwCoLNjj0q",
        "outputId": "0da75a8f-e056-4e6e-dc47-c0e48577aba3"
      },
      "execution_count": null,
      "outputs": [
        {
          "output_type": "stream",
          "name": "stdout",
          "text": [
            "Car\n",
            "Bike\n"
          ]
        }
      ]
    },
    {
      "cell_type": "code",
      "source": [
        "# 5) Polymorphism with Abstract Classes (Using abc Module)\n",
        "from abc import ABC, abstractmethod\n",
        "\n",
        "class Animal(ABC):\n",
        "    @abstractmethod\n",
        "    def sound(self):\n",
        "        pass  # Must be overridden\n",
        "\n",
        "class Dog(Animal):\n",
        "    def sound(self):\n",
        "        return \"Bark\"\n",
        "\n",
        "class Cat(Animal):\n",
        "    def sound(self):\n",
        "        return \"Meow\"\n",
        "\n",
        "# Objects\n",
        "dog = Dog()\n",
        "cat = Cat()\n",
        "\n",
        "print(dog.sound())  # Output: Bark\n",
        "print(cat.sound())  # Output: Meow\n"
      ],
      "metadata": {
        "colab": {
          "base_uri": "https://localhost:8080/"
        },
        "id": "HRZfPrvXjp9S",
        "outputId": "979aa083-0dd1-4c6a-cacb-b1d05faf22ef"
      },
      "execution_count": null,
      "outputs": [
        {
          "output_type": "stream",
          "name": "stdout",
          "text": [
            "Bark\n",
            "Meow\n"
          ]
        }
      ]
    },
    {
      "cell_type": "markdown",
      "source": [
        "# 8.  How is encapsulation achieved in Python?\n",
        "- Encapsulation is an OOP principle that restricts direct access to data by hiding it inside a class and providing controlled access through getter and setter methods.\n",
        "- Key Idea: Protect data from accidental modification.\n",
        "- How? Use private (__var) and protected (_var) attributes."
      ],
      "metadata": {
        "id": "5_ghk0oilXck"
      }
    },
    {
      "cell_type": "markdown",
      "source": [
        " Achieving Encapsulation in Python :-\n",
        "- (1) by Using Public, Protected, and Private Attributes.\n",
        "![image.png](data:image/png;base64,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)"
      ],
      "metadata": {
        "id": "Zwv-6t_NmQHm"
      }
    },
    {
      "cell_type": "code",
      "source": [
        "class Person:\n",
        "    def __init__(self, name, age):\n",
        "        self.name = name        # Public attribute\n",
        "        self._address = \"India\" # Protected attribute\n",
        "        self.__salary = 50000   # Private attribute\n",
        "\n",
        "    def show(self):\n",
        "        print(f\"Name: {self.name}, Address: {self._address}, Salary: {self.__salary}\")\n",
        "\n",
        "p = Person(\"Shubham\", 25)\n",
        "print(p.name)      # ✅ Public: Accessible\n",
        "print(p._address)  # ✅ Protected: Accessible (not recommended)\n",
        "# print(p.__salary)  ❌ Private: AttributeError\n",
        "\n",
        "p.show()  # ✅ Name: Shubham, Address: India, Salary: 50000\n"
      ],
      "metadata": {
        "colab": {
          "base_uri": "https://localhost:8080/"
        },
        "id": "W5fsSBSIjvIR",
        "outputId": "2402d091-8473-41a4-bfec-447d7ff51242"
      },
      "execution_count": null,
      "outputs": [
        {
          "output_type": "stream",
          "name": "stdout",
          "text": [
            "Shubham\n",
            "India\n",
            "Name: Shubham, Address: India, Salary: 50000\n"
          ]
        }
      ]
    },
    {
      "cell_type": "markdown",
      "source": [
        " Private attributes (__salary) are not directly accessible but can be accessed using name mangling"
      ],
      "metadata": {
        "id": "3cR5TZu7m5OJ"
      }
    },
    {
      "cell_type": "code",
      "source": [
        "print(p._Person__salary)  # ✅ Output: 50000 (Name mangling)\n"
      ],
      "metadata": {
        "colab": {
          "base_uri": "https://localhost:8080/"
        },
        "id": "1qS2lgHqmz6j",
        "outputId": "45514b4b-ad96-4c3f-cbbd-eb7046535c42"
      },
      "execution_count": null,
      "outputs": [
        {
          "output_type": "stream",
          "name": "stdout",
          "text": [
            "50000\n"
          ]
        }
      ]
    },
    {
      "cell_type": "markdown",
      "source": [
        "(2) Using Getters and Setters\n",
        "- Encapsulation is achieved using methods to access private variables.\n",
        "- to access and modify private attributes safely.\n"
      ],
      "metadata": {
        "id": "U_0OWmH4nJoB"
      }
    },
    {
      "cell_type": "code",
      "source": [
        "class BankAccount:\n",
        "    def __init__(self, balance):\n",
        "        self.__balance = balance  # Private variable\n",
        "\n",
        "    # Getter method (read-only access)\n",
        "    def get_balance(self):\n",
        "        return self.__balance\n",
        "\n",
        "    # Setter method (controlled modification)\n",
        "    def set_balance(self, amount):\n",
        "        if amount >= 0:\n",
        "            self.__balance = amount\n",
        "        else:\n",
        "            print(\"Invalid balance\")\n",
        "\n",
        "# Creating object\n",
        "account = BankAccount(1000)\n",
        "\n",
        "print(account.get_balance())  # ✅ Output: 1000\n",
        "account.set_balance(2000)     # ✅ Updates balance\n",
        "print(account.get_balance())  # ✅ Output: 2000\n",
        "account.set_balance(-500)     # ❌ Invalid balance\n",
        "\n",
        "# Encapsulation ensures only valid data is assigned."
      ],
      "metadata": {
        "colab": {
          "base_uri": "https://localhost:8080/"
        },
        "id": "qik0XFZYm8Z_",
        "outputId": "d19ad533-5b40-49b2-a17a-78f50e55d047"
      },
      "execution_count": null,
      "outputs": [
        {
          "output_type": "stream",
          "name": "stdout",
          "text": [
            "1000\n",
            "2000\n",
            "Invalid balance\n"
          ]
        }
      ]
    },
    {
      "cell_type": "markdown",
      "source": [
        "(3) Using @property (Pythonic Way of Encapsulation)\n",
        "-  @property makes a method act like an attribute.\n",
        "-  No need for explicit getter and setter calls.\n",
        "- @property decorator for a cleaner way to manage encapsulation."
      ],
      "metadata": {
        "id": "bjvYuEHynh6B"
      }
    },
    {
      "cell_type": "code",
      "source": [
        "class Student:\n",
        "    def __init__(self, name, marks):\n",
        "        self.__marks = marks  # Private\n",
        "\n",
        "    @property\n",
        "    def marks(self):  # Getter\n",
        "        return self.__marks\n",
        "\n",
        "    @marks.setter\n",
        "    def marks(self, value):  # Setter\n",
        "        if 0 <= value <= 100:\n",
        "            self.__marks = value\n",
        "        else:\n",
        "            print(\"Invalid marks\")\n",
        "\n",
        "# Object creation\n",
        "s = Student(\"Shubham\", 90)\n",
        "\n",
        "print(s.marks)   # ✅ Getter: Output 90\n",
        "s.marks = 85     # ✅ Setter: Updates marks\n",
        "print(s.marks)   # ✅ Output 85\n",
        "s.marks = 150    # ❌ Invalid marks\n"
      ],
      "metadata": {
        "colab": {
          "base_uri": "https://localhost:8080/"
        },
        "id": "R9dItw9SnY05",
        "outputId": "a6e8ca6d-9dc8-4b06-c8f0-3bfb30c29a78"
      },
      "execution_count": null,
      "outputs": [
        {
          "output_type": "stream",
          "name": "stdout",
          "text": [
            "90\n",
            "85\n",
            "Invalid marks\n"
          ]
        }
      ]
    },
    {
      "cell_type": "markdown",
      "source": [
        "# 9. What is a constructor in Python?\n",
        "- A constructor is a special method in Python that gets called automatically when an object is created. It is used to initialize an object's attributes.\n",
        "- In Python, the constructor method is __init__().\n",
        "- It is called automatically when an object is instantiated."
      ],
      "metadata": {
        "id": "M9K0TqEHod5Z"
      }
    },
    {
      "cell_type": "code",
      "source": [
        "# Syntax of a Constructor\n",
        "\n",
        "class ClassName:\n",
        "    def __init__(self, parameters):\n",
        "        # Initialize attributes\n",
        "        self.attribute = parameters\n"
      ],
      "metadata": {
        "id": "3lpho0bZnmnl"
      },
      "execution_count": null,
      "outputs": []
    },
    {
      "cell_type": "code",
      "source": [
        "#  Example\n",
        "class Student:\n",
        "    def __init__(self, name, age):  # Constructor\n",
        "        self.name = name  # Instance variable\n",
        "        self.age = age\n",
        "\n",
        "    def display(self):\n",
        "        print(f\"Name: {self.name}, Age: {self.age}\")\n",
        "\n",
        "# Object creation (constructor is called automatically)\n",
        "s1 = Student(\"Shubham\", 25)\n",
        "s1.display()\n",
        "\n",
        "# __init__() initializes name and age when an object is created."
      ],
      "metadata": {
        "colab": {
          "base_uri": "https://localhost:8080/"
        },
        "id": "1A4BCVHapLYH",
        "outputId": "293523ff-c9c0-4ff2-e90c-937c2f591148"
      },
      "execution_count": null,
      "outputs": [
        {
          "output_type": "stream",
          "name": "stdout",
          "text": [
            "Name: Shubham, Age: 25\n"
          ]
        }
      ]
    },
    {
      "cell_type": "markdown",
      "source": [
        " Types of Constructors in Python"
      ],
      "metadata": {
        "id": "3xk1qLxopcVl"
      }
    },
    {
      "cell_type": "code",
      "source": [
        "# (1) Default Constructor (No Arguments)\n",
        "class Demo:\n",
        "    def __init__(self):  # No parameters\n",
        "        print(\"Default Constructor Called\")\n",
        "\n",
        "obj = Demo()  # Output: Default Constructor Called\n",
        "\n",
        "#  No arguments are passed when creating an object."
      ],
      "metadata": {
        "colab": {
          "base_uri": "https://localhost:8080/"
        },
        "id": "dYQID2VqpS8u",
        "outputId": "d94fb0e0-67b9-4f48-ae57-54702e844c87"
      },
      "execution_count": null,
      "outputs": [
        {
          "output_type": "stream",
          "name": "stdout",
          "text": [
            "Default Constructor Called\n"
          ]
        }
      ]
    },
    {
      "cell_type": "code",
      "source": [
        "# (2) Parameterized Constructor\n",
        "class Car:\n",
        "    def __init__(self, brand, price):\n",
        "        self.brand = brand\n",
        "        self.price = price\n",
        "\n",
        "    def show(self):\n",
        "        print(f\"Brand: {self.brand}, Price: {self.price}\")\n",
        "\n",
        "car1 = Car(\"Tesla\", 50000)\n",
        "car1.show()\n",
        "\n",
        "#  Takes arguments and initializes object attributes."
      ],
      "metadata": {
        "colab": {
          "base_uri": "https://localhost:8080/"
        },
        "id": "LVAESrpFpmme",
        "outputId": "224e1859-efdc-4039-f7d1-664e89905a16"
      },
      "execution_count": null,
      "outputs": [
        {
          "output_type": "stream",
          "name": "stdout",
          "text": [
            "Brand: Tesla, Price: 50000\n"
          ]
        }
      ]
    },
    {
      "cell_type": "code",
      "source": [
        "# (3) Constructor with Default Values\n",
        "\n",
        "class Employee:\n",
        "    def __init__(self, name=\"Unknown\", salary=30000):\n",
        "        self.name = name\n",
        "        self.salary = salary\n",
        "\n",
        "e1 = Employee()  # Uses default values\n",
        "e2 = Employee(\"Shubham\", 50000)\n",
        "\n",
        "print(e1.name, e1.salary)  # Output: Unknown 30000\n",
        "print(e2.name, e2.salary)  # Output: Shubham 50000\n",
        "\n",
        "# If no values are provided, default values are used."
      ],
      "metadata": {
        "colab": {
          "base_uri": "https://localhost:8080/"
        },
        "id": "jEVCOyyvpvTf",
        "outputId": "00a8c7a8-3c97-4de0-f8d3-7111960ddb0d"
      },
      "execution_count": null,
      "outputs": [
        {
          "output_type": "stream",
          "name": "stdout",
          "text": [
            "Unknown 30000\n",
            "Shubham 50000\n"
          ]
        }
      ]
    },
    {
      "cell_type": "markdown",
      "source": [
        "(4) Constructor Overloading in Python (Using *args)\n",
        "- Python does not support traditional constructor overloading.\n",
        "- We can use *args or default values to handle multiple argument cases."
      ],
      "metadata": {
        "id": "K2Ha9FPPp7j8"
      }
    },
    {
      "cell_type": "code",
      "source": [
        "class Addition:\n",
        "    def __init__(self, *args):  # Accepts variable arguments\n",
        "        self.sum = sum(args) if args else 0\n",
        "\n",
        "a1 = Addition(10, 20)\n",
        "a2 = Addition(5, 15, 25)\n",
        "\n",
        "print(a1.sum)  # Output: 30\n",
        "print(a2.sum)  # Output: 45\n"
      ],
      "metadata": {
        "colab": {
          "base_uri": "https://localhost:8080/"
        },
        "id": "IwnAJztPp4UV",
        "outputId": "68cbcaa8-eec0-4063-9098-23a3cd6dd8b8"
      },
      "execution_count": null,
      "outputs": [
        {
          "output_type": "stream",
          "name": "stdout",
          "text": [
            "30\n",
            "45\n"
          ]
        }
      ]
    },
    {
      "cell_type": "markdown",
      "source": [
        "# 10. What are class and static methods in Python?\n",
        "- Class Methods (@classmethod)\n",
        "  - Bound to the class, not instances.\n",
        "  - Takes cls as the first parameter, which represents the class.\n",
        "  - Can modify class-level attributes, but not instance attributes.\n",
        "  - Uses the @classmethod decorator."
      ],
      "metadata": {
        "id": "fPHUt5CtqZet"
      }
    },
    {
      "cell_type": "code",
      "source": [
        "class Car:\n",
        "    wheels = 4  # Class variable\n",
        "\n",
        "    def __init__(self, brand):\n",
        "        self.brand = brand  # Instance variable\n",
        "\n",
        "    @classmethod\n",
        "    def change_wheels(cls, new_wheels):\n",
        "        cls.wheels = new_wheels  # Modifies class attribute\n",
        "\n",
        "# Before changing\n",
        "print(Car.wheels)  # Output: 4\n",
        "\n",
        "Car.change_wheels(6)  # Modifying class attribute\n",
        "print(Car.wheels)  # Output: 6\n",
        "\n",
        "# change_wheels() modifies the class attribute for all objects."
      ],
      "metadata": {
        "colab": {
          "base_uri": "https://localhost:8080/"
        },
        "id": "IBnlXw98qCQK",
        "outputId": "3212f96d-98b7-4c9f-ad62-c1c7180a4b78"
      },
      "execution_count": null,
      "outputs": [
        {
          "output_type": "stream",
          "name": "stdout",
          "text": [
            "4\n",
            "6\n"
          ]
        }
      ]
    },
    {
      "cell_type": "markdown",
      "source": [
        "# Static Methods (@staticmethod)\n",
        "- Does NOT use self or cls (works independently).\n",
        "- Used for utility/helper functions related to the class but do not access class or instance attributes.\n",
        "- Uses the @staticmethod decorator."
      ],
      "metadata": {
        "id": "AHLhpB6nt840"
      }
    },
    {
      "cell_type": "code",
      "source": [
        "class Math:\n",
        "    @staticmethod\n",
        "    def add(a, b):\n",
        "        return a + b  # No self or cls needed\n",
        "\n",
        "print(Math.add(10, 20))  # Output: 30\n",
        "\n",
        "# Independent utility function inside the class."
      ],
      "metadata": {
        "colab": {
          "base_uri": "https://localhost:8080/"
        },
        "id": "XmPVtqUQt3Wc",
        "outputId": "04d6cbf4-564b-4dc8-ca9f-fe79f670e3d2"
      },
      "execution_count": null,
      "outputs": [
        {
          "output_type": "stream",
          "name": "stdout",
          "text": [
            "30\n"
          ]
        }
      ]
    },
    {
      "cell_type": "code",
      "source": [
        "#  Example Combining Instance, Class, and Static Methods\n",
        "\n",
        "class Employee:\n",
        "    company = \"TechCorp\"  # Class attribute\n",
        "\n",
        "    def __init__(self, name, salary):\n",
        "        self.name = name  # Instance attribute\n",
        "        self.salary = salary\n",
        "\n",
        "    def show(self):  # Instance Method\n",
        "        print(f\"Employee: {self.name}, Salary: {self.salary}\")\n",
        "\n",
        "    @classmethod\n",
        "    def change_company(cls, new_name):  # Class Method\n",
        "        cls.company = new_name\n",
        "\n",
        "    @staticmethod\n",
        "    def is_workday(day):  # Static Method\n",
        "        return day.lower() not in [\"saturday\", \"sunday\"]\n",
        "\n",
        "# Instance\n",
        "e1 = Employee(\"Shubham\", 50000)\n",
        "e1.show()  # Output: Employee: Shubham, Salary: 50000\n",
        "\n",
        "# Class Method: Change company name\n",
        "Employee.change_company(\"NewTech\")\n",
        "print(Employee.company)  # Output: NewTech\n",
        "\n",
        "# Static Method: Check workday\n",
        "print(Employee.is_workday(\"Monday\"))  # Output: True\n",
        "print(Employee.is_workday(\"Sunday\"))  # Output: False\n"
      ],
      "metadata": {
        "colab": {
          "base_uri": "https://localhost:8080/"
        },
        "id": "dcoAbpccuA-g",
        "outputId": "67d59185-b9f5-471f-ca94-451ea6e7bc34"
      },
      "execution_count": null,
      "outputs": [
        {
          "output_type": "stream",
          "name": "stdout",
          "text": [
            "Employee: Shubham, Salary: 50000\n",
            "NewTech\n",
            "True\n",
            "False\n"
          ]
        }
      ]
    },
    {
      "cell_type": "markdown",
      "source": [
        "# 11. What is method overloading in Python?\n",
        "- Method overloading is a feature that allows multiple methods in a class to have the same name but different arguments.\n",
        "- However, Python does not support method overloading in the traditional sense, like languages such as Java or C++.\n",
        "- Instead, Python allows us to achieve a similar effect using default arguments or the *args and **kwargs mechanisms.\n",
        "-How to Simulate Method Overloading in Python?\n",
        " * Since Python does not allow multiple methods with the same name. The last defined method overrides the previous ones(python will consider the last one only). However, we can achieve a similar effect of method overloading using:\n",
        "  - Default Arguments\n",
        "  - Variable-Length Arguments (*args, **kwargs)\n",
        "  - Using @singledispatch from functools (Function Overloading)\n",
        "  - using @dispatch from multipledispatch (Function Overloading).\n",
        "- Advantages of Method Overloading:-\n",
        "  1. Improved Code Readability\n",
        "  2. Flexibility in Parameter Handling :- Accept variable numbers of arguments (using *args/**kwargs).\n",
        "  3. Polymorphism (Type-Based Behavior) :- Use isinstance() or @singledispatch to change behavior based on input types.\n",
        "  4. Reduced Code Duplication"
      ],
      "metadata": {
        "id": "lFSbJpLuYp3K"
      }
    },
    {
      "cell_type": "code",
      "source": [
        "# traditional overloading\n",
        "\n",
        "class Test:\n",
        "  def add(self,num1,num2):\n",
        "    print('addition is:',num1+num2)\n",
        "  def add(self,num1,num2,num3):\n",
        "    print('addition is:',num1+num2+num3)\n",
        "\n",
        "c1=Test()\n",
        "# c1.add(10,20)    # missing 1 required positional argument: 'num3'\n",
        "c1.add(10,20,30)   # python will consider the last one only)"
      ],
      "metadata": {
        "id": "YgsYUVBwuEcL",
        "colab": {
          "base_uri": "https://localhost:8080/"
        },
        "outputId": "a344e1eb-33b2-4456-a8bd-83870d1608ef"
      },
      "execution_count": null,
      "outputs": [
        {
          "output_type": "stream",
          "name": "stdout",
          "text": [
            "addition is: 60\n"
          ]
        }
      ]
    },
    {
      "cell_type": "markdown",
      "source": [
        "Python does not support method overloading in the traditional sense.  However, we can achieve a similar effect of method overloading using:-"
      ],
      "metadata": {
        "id": "ow2dSFy-q026"
      }
    },
    {
      "cell_type": "code",
      "source": [
        "# 1. Using Default Arguments :- We can define a method with default values for parameters to handle different cases.\n",
        "\n",
        "class Calculator:\n",
        "    def add(self, a, b=0, c=0):\n",
        "        return a + b + c\n",
        "\n",
        "calc = Calculator()\n",
        "print(calc.add(5))        # Output: 5\n",
        "print(calc.add(5, 10))    # Output: 15\n",
        "print(calc.add(5, 10, 15)) # Output: 30"
      ],
      "metadata": {
        "colab": {
          "base_uri": "https://localhost:8080/"
        },
        "id": "ufWGPvUCfMt-",
        "outputId": "404e90e8-9f18-4712-f1e4-8ca22b5dbe8a"
      },
      "execution_count": null,
      "outputs": [
        {
          "output_type": "stream",
          "name": "stdout",
          "text": [
            "5\n",
            "15\n",
            "30\n"
          ]
        }
      ]
    },
    {
      "cell_type": "code",
      "source": [
        "# 2. Using *args (Variable-Length Arguments) :- The *args parameter allows the method to accept any number of arguments.\n",
        "\n",
        "class Calculator:\n",
        "    def add(self, *args):\n",
        "        return sum(args)\n",
        "\n",
        "calc = Calculator()\n",
        "print(calc.add(5))          # Output: 5\n",
        "print(calc.add(5, 10))      # Output: 15\n",
        "print(calc.add(5, 10, 15))  # Output: 30"
      ],
      "metadata": {
        "colab": {
          "base_uri": "https://localhost:8080/"
        },
        "id": "tg8q-SKQrJ6O",
        "outputId": "8459ef3c-7793-4ff7-9e6c-8c27e86213ce"
      },
      "execution_count": null,
      "outputs": [
        {
          "output_type": "stream",
          "name": "stdout",
          "text": [
            "5\n",
            "15\n",
            "30\n"
          ]
        }
      ]
    },
    {
      "cell_type": "markdown",
      "source": [
        "(3) Using @dispatch(decorator) for Function Overloading.\n",
        "- Python provides a way to overload functions using the @dispatch decorator from multipledispatch module.\n",
        "- Supports multiple argument types.\n",
        "- Requires the multipledispatch library (not built-in)."
      ],
      "metadata": {
        "id": "DFFHmhXsuFT1"
      }
    },
    {
      "cell_type": "code",
      "source": [
        "pip install multipledispatch"
      ],
      "metadata": {
        "colab": {
          "base_uri": "https://localhost:8080/"
        },
        "id": "eMfZtu0yu8kv",
        "outputId": "cce3ea16-88eb-4775-afa6-946d0839c26d"
      },
      "execution_count": null,
      "outputs": [
        {
          "output_type": "stream",
          "name": "stdout",
          "text": [
            "Requirement already satisfied: multipledispatch in /usr/local/lib/python3.11/dist-packages (1.0.0)\n"
          ]
        }
      ]
    },
    {
      "cell_type": "code",
      "source": [
        "# Multiple Dispatch for Overloading\n",
        "\n",
        "from multipledispatch import dispatch\n",
        "\n",
        "@dispatch(int, int)\n",
        "def add(a, b):\n",
        "    return a + b  # Integer addition\n",
        "\n",
        "@dispatch(float, float)\n",
        "def add(a, b):\n",
        "    return a + b + 0.5  # Special handling for floats\n",
        "\n",
        "@dispatch(str, str)\n",
        "def add(a, b):\n",
        "    return a + \" \" + b  # Concatenation\n",
        "\n",
        "print(add(3, 5))        # Output: 8 (int + int)\n",
        "print(add(2.5, 3.5))    # Output: 6.5 (float + float)\n",
        "print(add(\"Hello\", \"World\"))  # Output: \"Hello World\" (str + str)\n"
      ],
      "metadata": {
        "colab": {
          "base_uri": "https://localhost:8080/"
        },
        "id": "74DUrot3uwJl",
        "outputId": "70913b86-3cb8-4cda-8def-c11bcb7abeb7"
      },
      "execution_count": null,
      "outputs": [
        {
          "output_type": "stream",
          "name": "stdout",
          "text": [
            "8\n",
            "6.5\n",
            "Hello World\n"
          ]
        }
      ]
    },
    {
      "cell_type": "markdown",
      "source": [
        "# 12.  What is method overriding in OOP?\n",
        "- Method overriding means redefining a method in the child class that already exists in the parent class.\n",
        "- Key Points of Method Overriding\n",
        "  - The method name and parameters must be the same in both parent and child classes.\n",
        "  - It allows runtime polymorphism (method resolution happens at runtime).\n",
        "  - The method in the child class replaces the method in the parent class when called on an object of the child class.\n",
        "  - The super() function can be used to call the parent class method inside the overridden method."
      ],
      "metadata": {
        "id": "DIoMdSWKxnrs"
      }
    },
    {
      "cell_type": "code",
      "source": [
        "# Example: Method Overriding in Python\n",
        "\n",
        "# Parent Class\n",
        "class Animal:\n",
        "    def speak(self):\n",
        "        return \"Animal makes a sound\"\n",
        "\n",
        "# Child Class overriding the method\n",
        "class Dog(Animal):\n",
        "    def speak(self):\n",
        "        return \"Dog barks\"\n",
        "\n",
        "# Another Child Class overriding the method\n",
        "class Cat(Animal):\n",
        "    def speak(self):\n",
        "        return \"Cat meows\"\n",
        "\n",
        "# Creating objects\n",
        "dog = Dog()\n",
        "cat = Cat()\n",
        "\n",
        "print(dog.speak())  # Output: Dog barks\n",
        "print(cat.speak())  # Output: Cat meows\n",
        "\n",
        "#  The speak() method is overridden in the Dog and Cat classes to provide their own implementation"
      ],
      "metadata": {
        "colab": {
          "base_uri": "https://localhost:8080/"
        },
        "id": "-3YYsMnBvBrY",
        "outputId": "a14d4e78-9262-452a-dc71-aeea8b9ea5bc"
      },
      "execution_count": null,
      "outputs": [
        {
          "output_type": "stream",
          "name": "stdout",
          "text": [
            "Dog barks\n",
            "Cat meows\n"
          ]
        }
      ]
    },
    {
      "cell_type": "code",
      "source": [
        "# overriding\n",
        "\n",
        "class School:\n",
        "  def displayinfo(self):\n",
        "    print('welcome to school')\n",
        "\n",
        "class College(School):\n",
        "  def displayinfo(self):\n",
        "    print('welcome to college')\n",
        "\n",
        "\n",
        "obj2 = College()\n",
        "obj2.displayinfo()\n"
      ],
      "metadata": {
        "colab": {
          "base_uri": "https://localhost:8080/"
        },
        "id": "FWMGSi0T0K6h",
        "outputId": "83027c21-72c9-46a9-d9dd-18a284513b15"
      },
      "execution_count": null,
      "outputs": [
        {
          "output_type": "stream",
          "name": "stdout",
          "text": [
            "welcome to college\n"
          ]
        }
      ]
    },
    {
      "cell_type": "code",
      "source": [
        "# Using super() to Call the Parent Method :- If we want to extend the behavior of the overridden method while still keeping the parent class functionality, we can use super().\n",
        "\n",
        "class School:\n",
        "  def displayinfo(self):\n",
        "    print('welcome to school')\n",
        "\n",
        "class College(School):\n",
        "  def displayinfo(self):\n",
        "    super().displayinfo()\n",
        "    print('welcome to college')\n",
        "\n",
        "\n",
        "obj2 = College()\n",
        "obj2.displayinfo()"
      ],
      "metadata": {
        "colab": {
          "base_uri": "https://localhost:8080/"
        },
        "id": "UjIaUMSgzZGK",
        "outputId": "5c2785c6-7f4f-416b-b031-18b8e4374d07"
      },
      "execution_count": null,
      "outputs": [
        {
          "output_type": "stream",
          "name": "stdout",
          "text": [
            "welcome to school\n",
            "welcome to college\n"
          ]
        }
      ]
    },
    {
      "cell_type": "code",
      "source": [
        "class Animal:\n",
        "    def speak(self):\n",
        "        return \"Animal makes a sound\"\n",
        "\n",
        "class Dog(Animal):\n",
        "    def speak(self):\n",
        "        return super().speak() + \" and Dog barks\"\n",
        "\n",
        "dog = Dog()\n",
        "print(dog.speak())  # Output: Animal makes a sound and Dog barks\n",
        "\n",
        "#  super().speak() calls the parent class method, and the child class adds extra behavior."
      ],
      "metadata": {
        "colab": {
          "base_uri": "https://localhost:8080/"
        },
        "id": "UtzfDYVC0RVg",
        "outputId": "07c6282f-64ac-487d-e31a-6aa21969b975"
      },
      "execution_count": null,
      "outputs": [
        {
          "output_type": "stream",
          "name": "stdout",
          "text": [
            "Animal makes a sound and Dog barks\n"
          ]
        }
      ]
    },
    {
      "cell_type": "markdown",
      "source": [
        "Real-World Example of Method Overriding\n",
        "- Imagine you are designing a payment system where different payment methods process payments differently:"
      ],
      "metadata": {
        "id": "q6FRIrjI00zD"
      }
    },
    {
      "cell_type": "code",
      "source": [
        "class Payment:\n",
        "    def process(self, amount):\n",
        "        return f\"Processing payment of {amount}\"\n",
        "\n",
        "class CreditCard(Payment):\n",
        "    def process(self, amount):\n",
        "        return f\"Processing credit card payment of {amount}\"\n",
        "\n",
        "class PayPal(Payment):\n",
        "    def process(self, amount):\n",
        "        return f\"Processing PayPal payment of {amount}\"\n",
        "\n",
        "payment1 = CreditCard()\n",
        "payment2 = PayPal()\n",
        "\n",
        "print(payment1.process(100))  # Output: Processing credit card payment of 100\n",
        "print(payment2.process(200))  # Output: Processing PayPal payment of 200\n",
        "\n",
        "#  Each subclass overrides the process() method to provide a different payment processing logic."
      ],
      "metadata": {
        "colab": {
          "base_uri": "https://localhost:8080/"
        },
        "id": "_yKztGk50j2S",
        "outputId": "47b4c574-c5c8-4cd7-dce2-5b661e9b34a4"
      },
      "execution_count": null,
      "outputs": [
        {
          "output_type": "stream",
          "name": "stdout",
          "text": [
            "Processing credit card payment of 100\n",
            "Processing PayPal payment of 200\n"
          ]
        }
      ]
    },
    {
      "cell_type": "markdown",
      "source": [
        "# 13. What is a property decorator in Python?\n",
        "- The property decorator (@property) in Python is used to define getter methods in a class. It allows us to access a method like an attribute without calling it explicitly as a function.\n"
      ],
      "metadata": {
        "id": "lVp4fmZ91KJX"
      }
    },
    {
      "cell_type": "code",
      "source": [
        "class Circle:\n",
        "    def __init__(self, radius):\n",
        "        self._radius = radius  # Private attribute\n",
        "\n",
        "    @property\n",
        "    def area(self):  # Accessed like an attribute\n",
        "        return 3.14 * self._radius ** 2\n",
        "\n",
        "circle = Circle(5)\n",
        "print(circle.area)  # Output: 78.5 (Notice we don't use parentheses!)\n",
        "\n",
        "# The area method behaves like an attribute instead of a function call (circle.area())."
      ],
      "metadata": {
        "colab": {
          "base_uri": "https://localhost:8080/"
        },
        "id": "8AVXbqqC0997",
        "outputId": "94fd1dfd-79fe-4e6c-fe3b-f514bf1c2cd3"
      },
      "execution_count": null,
      "outputs": [
        {
          "output_type": "stream",
          "name": "stdout",
          "text": [
            "78.5\n"
          ]
        }
      ]
    },
    {
      "cell_type": "markdown",
      "source": [
        "Using @property with Getters, Setters, and Deleters\n",
        "- Python provides three decorators to manage properties:\n",
        "\n",
        "1. @property → Defines a getter (read-only by default)\n",
        "2. @<property_name>.setter → Defines a setter (to modify the value)\n",
        "3. @<property_name>.deleter → Defines a deleter (to delete the attribute)"
      ],
      "metadata": {
        "id": "A6Jj36xP1ymC"
      }
    },
    {
      "cell_type": "code",
      "source": [
        "# Example with Getter, Setter, and Deleter\n",
        "\n",
        "class Person:\n",
        "    def __init__(self, name):\n",
        "        self._name = name  # Private variable\n",
        "\n",
        "    @property\n",
        "    def name(self):  # Getter\n",
        "        return self._name\n",
        "\n",
        "    @name.setter\n",
        "    def name(self, new_name):  # Setter\n",
        "        if len(new_name) > 2:\n",
        "            self._name = new_name\n",
        "        else:\n",
        "            raise ValueError(\"Name must be at least 3 characters long\")\n",
        "\n",
        "    @name.deleter\n",
        "    def name(self):  # Deleter\n",
        "        print(\"Deleting name...\")\n",
        "        del self._name\n",
        "\n",
        "# Using the class\n",
        "person = Person(\"Alice\")\n",
        "print(person.name)  # Alice (Getter)\n",
        "\n",
        "person.name = \"Bob\"  # Setter\n",
        "print(person.name)  # Bob\n",
        "\n",
        "del person.name  # Calls the deleter\n",
        "\n",
        "#  Encapsulation: The _name attribute is private, and @property allows controlled access.\n",
        "#  Validation: The setter ensures the name is at least 3 characters long."
      ],
      "metadata": {
        "colab": {
          "base_uri": "https://localhost:8080/"
        },
        "id": "z0S0G2xS1rY6",
        "outputId": "60fa0caf-0afb-41a0-d08a-5b45289e4919"
      },
      "execution_count": null,
      "outputs": [
        {
          "output_type": "stream",
          "name": "stdout",
          "text": [
            "Alice\n",
            "Bob\n",
            "Deleting name...\n"
          ]
        }
      ]
    },
    {
      "cell_type": "markdown",
      "source": [
        "# 14. Why is polymorphism important in OOP?\n",
        "- Polymorphism means \"many forms.\" It allows the same function or operator to work differently based on the object or data type it is applied to.\n",
        "- Benefits of Polymorphism\n",
        "  - Code Reusability – The same function can work with different objects.\n",
        "  - Flexibility – Less code modification when adding new classes.\n",
        "  - Scalability – Easily extend functionalities in large projects."
      ],
      "metadata": {
        "id": "4KJZLYqV7IGE"
      }
    },
    {
      "cell_type": "markdown",
      "source": [
        "Example of Polymorphism in Python\n"
      ],
      "metadata": {
        "id": "AYqmhvgE9qWa"
      }
    },
    {
      "cell_type": "markdown",
      "source": [
        "1. Method Overriding (Runtime Polymorphism) :-\n",
        "Method overriding allows a child class to provide a specific implementation of a method already defined in its parent class."
      ],
      "metadata": {
        "id": "mfzjmJuX9uhm"
      }
    },
    {
      "cell_type": "code",
      "source": [
        "class Animal:\n",
        "    def speak(self):\n",
        "        return \"Some sound\"\n",
        "\n",
        "class Dog(Animal):\n",
        "    def speak(self):\n",
        "        return \"Bark\"\n",
        "\n",
        "class Cat(Animal):\n",
        "    def speak(self):\n",
        "        return \"Meow\"\n",
        "\n",
        "# Polymorphic behavior\n",
        "animals = [Dog(), Cat()]\n",
        "\n",
        "for animal in animals:\n",
        "    print(animal.speak())  # Calls the overridden method dynamically\n",
        "\n",
        "# The same method speak() behaves differently depending on the object type."
      ],
      "metadata": {
        "colab": {
          "base_uri": "https://localhost:8080/"
        },
        "id": "uqMMG8YV8vYB",
        "outputId": "c450e6bb-901f-4269-fa78-c436a6966867"
      },
      "execution_count": null,
      "outputs": [
        {
          "output_type": "stream",
          "name": "stdout",
          "text": [
            "Bark\n",
            "Meow\n"
          ]
        }
      ]
    },
    {
      "cell_type": "markdown",
      "source": [
        "2. Method Overloading (Compile-Time Polymorphism) :- Simulated in Python\n",
        "Python does not support method overloading like Java/C++, but it can be simulated using *args or @dispatch."
      ],
      "metadata": {
        "id": "jDrnCYYb97c9"
      }
    },
    {
      "cell_type": "code",
      "source": [
        "from multipledispatch import dispatch\n",
        "\n",
        "@dispatch(int, int)\n",
        "def add(a, b):\n",
        "    return a + b\n",
        "\n",
        "@dispatch(str, str)\n",
        "def add(a, b):\n",
        "    return a + \" \" + b\n",
        "\n",
        "print(add(5, 10))  # Output: 15 (int + int)\n",
        "print(add(\"Hello\", \"World\"))  # Output: \"Hello World\" (str + str)\n",
        "\n",
        "# The same function name add() behaves differently based on argument types."
      ],
      "metadata": {
        "colab": {
          "base_uri": "https://localhost:8080/"
        },
        "id": "tu9GUS6l9x2h",
        "outputId": "a747ad33-ff57-4b5e-88fe-012acf8a7fd6"
      },
      "execution_count": null,
      "outputs": [
        {
          "output_type": "stream",
          "name": "stdout",
          "text": [
            "15\n",
            "Hello World\n"
          ]
        }
      ]
    },
    {
      "cell_type": "markdown",
      "source": [
        "3. Operator Overloading :-\n",
        "Python allows operator overloading using magic methods like __add__(), __mul__(), etc.\n"
      ],
      "metadata": {
        "id": "-_jpKjTE-QOT"
      }
    },
    {
      "cell_type": "code",
      "source": [
        "class Number:\n",
        "    def __init__(self, value):\n",
        "        self.value = value\n",
        "\n",
        "    def __add__(self, other):  # Overloading + operator\n",
        "        return Number(self.value + other.value)\n",
        "\n",
        "n1 = Number(10)\n",
        "n2 = Number(20)\n",
        "result = n1 + n2  # Calls __add__()\n",
        "print(result.value)  # Output: 30\n",
        "\n",
        "# The + operator is overloaded to work with Number objects."
      ],
      "metadata": {
        "colab": {
          "base_uri": "https://localhost:8080/"
        },
        "id": "hiJz92Nc-NaR",
        "outputId": "72b0854c-ea74-446d-ae13-31895c90c6b0"
      },
      "execution_count": null,
      "outputs": [
        {
          "output_type": "stream",
          "name": "stdout",
          "text": [
            "30\n"
          ]
        }
      ]
    },
    {
      "cell_type": "markdown",
      "source": [
        "# 15. What is an abstract class in Python?\n",
        "- In Python, an abstract class is a class that cannot be instantiated directly i.e. that you cannot create an object (instance) of an abstract class directly.\n",
        "-  It serves as a blueprint for other classes, enforcing that certain methods must be implemented in its subclasses.( In an abstract class, abstract methods are methods that must be implemented by any subclass (derived class). If a subclass does not implement these methods, Python will raise an error when trying to create an object of that subclass.)\n",
        "- Key Points:\n",
        "  - Abstract classes are created using the ABC (Abstract Base Class) module from abc.\n",
        "  - Methods that must be implemented by subclasses are marked with the @abstractmethod decorator.\n",
        "  - Abstract classes cannot be instantiated directly.\n",
        "  - The abstract class acts like a contract or blueprint that ensures every subclass must implement the required behaviors (methods).\n",
        "      - When you define an abstract method in an abstract class, you are saying:\n",
        "\"Every subclass must provide its own implementation of this method.\". this is because The abstract class defines abstract methods but does not provide an implementation.\n",
        "- Abstract classes in Python, while primarily known for defining abstract methods, can indeed contain both:\n",
        " 1. Abstract methods (must be implemented by subclasses)\n",
        " 2. Concrete methods (regular methods with implementation that subclasses can inherit or override)\n",
        "\n",
        "\n",
        "\n",
        "\n"
      ],
      "metadata": {
        "id": "0eIi1QdA-d8j"
      }
    },
    {
      "cell_type": "code",
      "source": [
        "from abc import ABC, abstractmethod\n",
        "\n",
        "class Vehicle(ABC):\n",
        "    @abstractmethod\n",
        "    def start_engine(self):\n",
        "        pass  # Subclasses must implement this method\n",
        "\n",
        "class Car(Vehicle):\n",
        "    def start_engine(self):\n",
        "        print(\"Car engine started.\")\n",
        "\n",
        "# car = Vehicle()   # This will raise an error because Vehicle is abstract(  Trying to create an object of an abstract class )\n",
        "car = Car()\n",
        "car.start_engine()  # Output: Car engine started.\n"
      ],
      "metadata": {
        "id": "9EUTy18e-ZqV",
        "colab": {
          "base_uri": "https://localhost:8080/"
        },
        "outputId": "eef190e7-5236-4937-be76-46fe9c291fd5"
      },
      "execution_count": null,
      "outputs": [
        {
          "output_type": "stream",
          "name": "stdout",
          "text": [
            "Car engine started.\n"
          ]
        }
      ]
    },
    {
      "cell_type": "code",
      "source": [
        "from abc import ABC, abstractmethod\n",
        "\n",
        "class Shape(ABC):  # Abstract class\n",
        "    @abstractmethod\n",
        "    def area(self):\n",
        "        pass  # No implementation here\n",
        "\n",
        "    @abstractmethod\n",
        "    def perimeter(self):\n",
        "        pass  # No implementation here\n",
        "\n",
        "# Subclass that implements the abstract methods\n",
        "class Rectangle(Shape):\n",
        "    def __init__(self, width, height):\n",
        "        self.width = width\n",
        "        self.height = height\n",
        "\n",
        "    def area(self):\n",
        "        return self.width * self.height  # Implementing abstract method\n",
        "\n",
        "    def perimeter(self):\n",
        "        return 2 * (self.width + self.height)  # Implementing abstract method\n",
        "\n",
        "# shape = Shape()  # This will raise an error: Can't instantiate abstract class\n",
        "rect = Rectangle(5, 10)  # This works because Rectangle implements all abstract methods\n",
        "print(rect.area())  # Output: 50\n",
        "print(rect.perimeter())  # Output: 30\n",
        "\n",
        "# If Rectangle did not implement area() or perimeter(), Python would raise an error when trying to create a Rectangle object."
      ],
      "metadata": {
        "colab": {
          "base_uri": "https://localhost:8080/"
        },
        "id": "7lYf74wrO5Sj",
        "outputId": "5a5e924a-53b5-4c48-c60e-e8776e5bd452"
      },
      "execution_count": null,
      "outputs": [
        {
          "output_type": "stream",
          "name": "stdout",
          "text": [
            "50\n",
            "30\n"
          ]
        }
      ]
    },
    {
      "cell_type": "code",
      "source": [
        "from abc import ABC, abstractmethod\n",
        "\n",
        "# Abstract class acting as a contract\n",
        "class Animal(ABC):\n",
        "    @abstractmethod\n",
        "    def make_sound(self):\n",
        "        pass  # Subclasses MUST implement this method\n",
        "\n",
        "# Subclass that implements the required method\n",
        "class Dog(Animal):\n",
        "    def make_sound(self):\n",
        "        return \"Bark\"\n",
        "\n",
        "# Subclass that also implements the required method\n",
        "class Cat(Animal):\n",
        "    def make_sound(self):\n",
        "        return \"Meow\"\n",
        "\n",
        "# animal = Animal()  # ❌ Error: Can't instantiate abstract class\n",
        "dog = Dog()\n",
        "cat = Cat()\n",
        "\n",
        "print(dog.make_sound())  # ✅ Output: Bark\n",
        "print(cat.make_sound())  # ✅ Output: Meow\n"
      ],
      "metadata": {
        "colab": {
          "base_uri": "https://localhost:8080/"
        },
        "id": "3ixvkH-YPnqh",
        "outputId": "53d7a936-89b4-433a-d9d7-e706ccd5b8f5"
      },
      "execution_count": null,
      "outputs": [
        {
          "output_type": "stream",
          "name": "stdout",
          "text": [
            "Bark\n",
            "Meow\n"
          ]
        }
      ]
    },
    {
      "cell_type": "code",
      "source": [
        "from abc import ABC, abstractmethod\n",
        "\n",
        "class Vehicle(ABC):\n",
        "    @abstractmethod\n",
        "    def start_engine(self):  # Abstract method (must be implemented)\n",
        "        pass\n",
        "\n",
        "    def stop_engine(self):  # Concrete method (has implementation)\n",
        "        print(\"Engine stopped.\")\n",
        "\n",
        "# Subclass implementing the abstract method\n",
        "class Car(Vehicle):\n",
        "    def start_engine(self):\n",
        "        print(\"Car engine started.\")\n",
        "\n",
        "# car = Vehicle()  # ❌ Error: Can't instantiate abstract class\n",
        "car = Car()\n",
        "car.start_engine()  # ✅ Output: Car engine started.\n",
        "car.stop_engine()   # ✅ Output: Engine stopped. (Inherited from Vehicle)\n",
        "\n",
        "#  The abstract method start_engine() must be implemented by subclasses.\n",
        "#  The concrete method stop_engine() is inherited and can be used directly.\n",
        "#  Subclasses can override concrete methods if needed."
      ],
      "metadata": {
        "colab": {
          "base_uri": "https://localhost:8080/"
        },
        "id": "LRosx9G2Pxnj",
        "outputId": "a8c6f01d-9b0e-45c0-d087-157bd809df9d"
      },
      "execution_count": null,
      "outputs": [
        {
          "output_type": "stream",
          "name": "stdout",
          "text": [
            "Car engine started.\n",
            "Engine stopped.\n"
          ]
        }
      ]
    },
    {
      "cell_type": "markdown",
      "source": [
        "# 16.  What are the advantages of OOP?\n",
        " 1. Modularity & Code Reusability\n",
        "  - Code is organized into classes and objects, making it reusable across different parts of the program.\n",
        "  - Once a class is created, it can be used multiple times without rewriting the same code.\n",
        "  - Example: A Car class can be reused to create multiple car objects with different attributes.\n",
        "\n",
        "2. Encapsulation (Data Hiding & Security)\n",
        "  - Encapsulation protects data by restricting direct access to it.\n",
        "  - Use private (__variable) and protected (_variable) attributes to control how data is accessed or modified.\n",
        "  - Example: A bank account class can prevent unauthorized access to balance data."
      ],
      "metadata": {
        "id": "GPu151GUQRIF"
      }
    },
    {
      "cell_type": "code",
      "source": [
        "class BankAccount:\n",
        "    def __init__(self, balance):\n",
        "        self.__balance = balance  # Private variable\n",
        "\n",
        "    def deposit(self, amount):\n",
        "        self.__balance += amount\n",
        "\n",
        "    def get_balance(self):\n",
        "        return self.__balance\n",
        "\n",
        "account = BankAccount(1000)\n",
        "print(account.get_balance())  # ✅ Output: 1000\n"
      ],
      "metadata": {
        "colab": {
          "base_uri": "https://localhost:8080/"
        },
        "id": "Ke0k2JhUQD1t",
        "outputId": "fd1903e4-ab96-476c-f868-bddcde681bbd"
      },
      "execution_count": null,
      "outputs": [
        {
          "output_type": "stream",
          "name": "stdout",
          "text": [
            "1000\n"
          ]
        }
      ]
    },
    {
      "cell_type": "markdown",
      "source": [
        "3. Inheritance (Code Reusability & Extensibility)\n",
        "- Allows a new class (child class) to inherit properties and methods from an existing class (parent class).\n",
        "- Reduces redundancy and promotes code reuse.\n",
        "- Example: A Car class can inherit from a Vehicle class instead of redefining common attributes like speed and fuel capacity."
      ],
      "metadata": {
        "id": "QiveF916a4rV"
      }
    },
    {
      "cell_type": "code",
      "source": [
        "class Vehicle:\n",
        "    def move(self):\n",
        "        print(\"Vehicle is moving.\")\n",
        "\n",
        "class Car(Vehicle):\n",
        "    pass\n",
        "\n",
        "car = Car()\n",
        "car.move()  # ✅ Output: Vehicle is moving. (Inherited from Vehicle class)\n"
      ],
      "metadata": {
        "colab": {
          "base_uri": "https://localhost:8080/"
        },
        "id": "EEoQGXn_azyU",
        "outputId": "631eac00-4e9d-4b82-cbd0-7ba053bbaabd"
      },
      "execution_count": null,
      "outputs": [
        {
          "output_type": "stream",
          "name": "stdout",
          "text": [
            "Vehicle is moving.\n"
          ]
        }
      ]
    },
    {
      "cell_type": "markdown",
      "source": [
        "4. Polymorphism (Flexibility & Scalability)\n",
        "- Same function name, different implementations depending on the class.\n",
        "- Example: A make_sound() method behaves differently in Dog and Cat classes."
      ],
      "metadata": {
        "id": "Q25U9jnkbEeg"
      }
    },
    {
      "cell_type": "code",
      "source": [
        "class Animal:\n",
        "    def make_sound(self):\n",
        "        pass\n",
        "\n",
        "class Dog(Animal):\n",
        "    def make_sound(self):\n",
        "        return \"Bark\"\n",
        "\n",
        "class Cat(Animal):\n",
        "    def make_sound(self):\n",
        "        return \"Meow\"\n",
        "\n",
        "animals = [Dog(), Cat()]\n",
        "for animal in animals:\n",
        "    print(animal.make_sound())  # ✅ Output: Bark, Meow\n"
      ],
      "metadata": {
        "colab": {
          "base_uri": "https://localhost:8080/"
        },
        "id": "O_m4HOABa_6L",
        "outputId": "5d8f6fb4-d976-47a5-82c9-391c096a8759"
      },
      "execution_count": null,
      "outputs": [
        {
          "output_type": "stream",
          "name": "stdout",
          "text": [
            "Bark\n",
            "Meow\n"
          ]
        }
      ]
    },
    {
      "cell_type": "markdown",
      "source": [
        "5. Abstraction (Hiding Complex Implementation Details)\n",
        "- Users interact with only necessary details, while internal implementations are hidden.\n",
        "- Example: A car dashboard shows speed, but the driver does not need to know the internal working of the engine."
      ],
      "metadata": {
        "id": "-15mWrJVbQhi"
      }
    },
    {
      "cell_type": "code",
      "source": [
        "from abc import ABC, abstractmethod\n",
        "\n",
        "class Vehicle(ABC):\n",
        "    @abstractmethod\n",
        "    def start_engine(self):\n",
        "        pass  # Abstract method (implementation hidden)\n",
        "\n",
        "class Car(Vehicle):\n",
        "    def start_engine(self):\n",
        "        print(\"Car engine started.\")\n",
        "\n",
        "car = Car()\n",
        "car.start_engine()  # ✅ Output: Car engine started.\n"
      ],
      "metadata": {
        "colab": {
          "base_uri": "https://localhost:8080/"
        },
        "id": "O_Ggj6Y1bKdq",
        "outputId": "a2008be9-c1ae-4e71-f8de-8d3245fb67ac"
      },
      "execution_count": null,
      "outputs": [
        {
          "output_type": "stream",
          "name": "stdout",
          "text": [
            "Car engine started.\n"
          ]
        }
      ]
    },
    {
      "cell_type": "markdown",
      "source": [
        "# 17. What is the difference between a class variable and an instance variable?\n",
        "1. Class Variables:\n",
        " - Class variables are defined within a class but outside of any methods.\n",
        " - They are shared by all instances (objects) of that class.\n",
        " - Memory Storage :- Stored in class memory (shared by all objects).\n",
        " - Access :- Can be accessed using ClassName.variable or self.variable.\n",
        " - Modification :- Changing it using ClassName.variable affects all\n",
        "  instances.\n",
        "\n",
        "2. Instance Variables:\n",
        " - Instance variables are defined within methods, typically inside the constructor (__init__) or other instance methods using self.\n",
        " - They are unique to each instance of a class.\n",
        " - Memory Storage :-Stored in instance memory (separate for each object).\n",
        " - Access :- Can be accessed using self.variable.\n",
        " - Modification :- Changing it using self.variable affects only that instance.\n",
        "\n"
      ],
      "metadata": {
        "id": "CCO-nlQJbcyt"
      }
    },
    {
      "cell_type": "code",
      "source": [
        "# examples\n",
        "\n",
        "class Car:\n",
        "    wheels = 4  # Class variable (shared by all instances)\n",
        "\n",
        "    def __init__(self, color):\n",
        "        self.color = color  # Instance variable (unique to each object)   #'self.color' is an instance variable\n",
        "\n",
        "# Creating objects\n",
        "car1 = Car(\"Red\")\n",
        "car2 = Car(\"Blue\")\n",
        "\n",
        "# Accessing variables\n",
        "print(car1.color)  # ✅ Output: Red (Instance variable)\n",
        "print(car2.color)  # ✅ Output: Blue (Instance variable)\n",
        "print(car1.wheels)  # ✅ Output: 4 (Class variable)\n",
        "print(car2.wheels)  # ✅ Output: 4 (Class variable)\n",
        "\n",
        "# Modifying instance variable (only affects one instance)\n",
        "car1.color = \"Green\"\n",
        "print(car1.color)  # ✅ Output: Green\n",
        "print(car2.color)  # ✅ Output: Blue (unchanged)\n",
        "\n",
        "# Modifying class variable (affects all instances)\n",
        "Car.wheels = 6\n",
        "print(car1.wheels)  # ✅ Output: 6\n",
        "print(car2.wheels)  # ✅ Output: 6\n"
      ],
      "metadata": {
        "colab": {
          "base_uri": "https://localhost:8080/"
        },
        "id": "hnn3HSlqbWuN",
        "outputId": "387c5d09-6c6b-4417-b2c1-100f06a83bb4"
      },
      "execution_count": null,
      "outputs": [
        {
          "output_type": "stream",
          "name": "stdout",
          "text": [
            "Red\n",
            "Blue\n",
            "4\n",
            "4\n",
            "Green\n",
            "Blue\n",
            "6\n",
            "6\n"
          ]
        }
      ]
    },
    {
      "cell_type": "markdown",
      "source": [
        "Key Takeaways\n",
        "- Class variables are shared across all instances, while instance variables are unique to each object.\n",
        "- Modifying an instance variable affects only that specific object.\n",
        "- Modifying a class variable affects all instances of the class."
      ],
      "metadata": {
        "id": "GswjJfz70HT7"
      }
    },
    {
      "cell_type": "markdown",
      "source": [
        "# 18. What is multiple inheritance in Python?\n",
        "- In Python, multiple inheritance is a feature that allows a class to inherit attributes and methods from more than one parent class. This means a single child class can derive characteristics from multiple independent parent classes."
      ],
      "metadata": {
        "id": "0Lw-ecYZ0Mzd"
      }
    },
    {
      "cell_type": "code",
      "source": [
        "class Parent1:\n",
        "    def method1(self):\n",
        "        print(\"Method from Parent1\")\n",
        "\n",
        "class Parent2:\n",
        "    def method2(self):\n",
        "        print(\"Method from Parent2\")\n",
        "\n",
        "class Child(Parent1, Parent2):\n",
        "    def method3(self):\n",
        "        print(\"Method from Child\")\n",
        "\n",
        "# Creating an object of Child class\n",
        "obj = Child()\n",
        "obj.method1()  # Inherited from Parent1\n",
        "obj.method2()  # Inherited from Parent2\n",
        "obj.method3()  # Defined in Child\n"
      ],
      "metadata": {
        "colab": {
          "base_uri": "https://localhost:8080/"
        },
        "id": "NNKi90WC0Ckg",
        "outputId": "0569ba1e-fdb5-4809-a5fd-787096c84c8e"
      },
      "execution_count": null,
      "outputs": [
        {
          "output_type": "stream",
          "name": "stdout",
          "text": [
            "Method from Parent1\n",
            "Method from Parent2\n",
            "Method from Child\n"
          ]
        }
      ]
    },
    {
      "cell_type": "markdown",
      "source": [
        "- in this code, both Parent1 and Parent2 are inherited by the Child class using multiple inheritance.( Parent1 and Parent2 are successfully inherited in Child)\n",
        "\n",
        "- when Parent1 and Parent2 are inherited in Child, all their behaviors (methods and attributes) are automatically available in Child.\n",
        "\n",
        "This means:\n",
        "- Child class gets access to all methods and attributes of Parent1 and Parent2.\n",
        "- If the Child class does not override a method, it directly inherits it from the parents.\n",
        "- If a method exists in both parent classes, Python follows the Method Resolution Order (MRO) to decide which one to call."
      ],
      "metadata": {
        "id": "7dw3Mgf73RsY"
      }
    },
    {
      "cell_type": "markdown",
      "source": [
        "When multiple parent classes have the same method name, Python follows the  (MRO) to determine which method to execute.\n",
        "\n"
      ],
      "metadata": {
        "id": "JBv9nNXc2U5N"
      }
    },
    {
      "cell_type": "code",
      "source": [
        "class A:\n",
        "    def show(self):\n",
        "        print(\"A class\")\n",
        "\n",
        "class B(A):\n",
        "    def show(self):\n",
        "        print(\"B class\")\n",
        "\n",
        "class C(A):\n",
        "    def show(self):\n",
        "        print(\"C class\")\n",
        "\n",
        "class D(B, C):  # Multiple Inheritance\n",
        "    pass\n",
        "\n",
        "obj = D()\n",
        "obj.show()    # Which show() method will be called? (as per MRO)\n",
        "\n",
        "# Checking MRO\n",
        "print(D.mro())             # ClassName.mro()"
      ],
      "metadata": {
        "colab": {
          "base_uri": "https://localhost:8080/"
        },
        "id": "YbJPVeXe2UNf",
        "outputId": "034174b1-78c9-433f-9cbb-cb80dc95fb93"
      },
      "execution_count": null,
      "outputs": [
        {
          "output_type": "stream",
          "name": "stdout",
          "text": [
            "B class\n",
            "[<class '__main__.D'>, <class '__main__.B'>, <class '__main__.C'>, <class '__main__.A'>, <class 'object'>]\n"
          ]
        }
      ]
    },
    {
      "cell_type": "markdown",
      "source": [
        "- The super().show() calls the next method in the Method Resolution Order (MRO).\n",
        "- How MRO  (Method Resolution Order) Works?\n",
        "1. First, Python looks in the D class. (obj.show() starts from D)\n",
        " - D does not have show(), so it moves to B (first parent).\n",
        "2.  Then, it looks in B.\n",
        " - B has show(), so Python calls B.show() and stops searching.\n",
        "3.  If B didn't have show(), it would move to C, then A.\n",
        "4.  Finally, it checks the object class (default base class of all classes in Python).\n",
        "- The MRO of D is:\n",
        "    - D → B → C → A → object\n",
        "- The object class is included at the end because all Python classes inherit from object.\n",
        "- The object class is the built-in base class of all classes in Python. It is the topmost class in the Python class hierarchy, meaning every class in Python implicitly inherits from object if no other superclass is specified.\n",
        "\n"
      ],
      "metadata": {
        "id": "PNMs2X6o56E6"
      }
    },
    {
      "cell_type": "code",
      "source": [
        "class Parent1:\n",
        "    def __init__(self):\n",
        "        print(\"Parent1 Constructor Called\")\n",
        "        self.attr1 = \"Attribute from Parent1\"\n",
        "\n",
        "    def method1(self):\n",
        "        print(\"Method from Parent1\")\n",
        "\n",
        "class Parent2:\n",
        "    def __init__(self):\n",
        "        print(\"Parent2 Constructor Called\")\n",
        "        self.attr2 = \"Attribute from Parent2\"\n",
        "\n",
        "    def method2(self):\n",
        "        print(\"Method from Parent2\")\n",
        "\n",
        "class Child(Parent1, Parent2):\n",
        "    def __init__(self):\n",
        "        super().__init__()  # Calls Parent1's __init__\n",
        "        Parent2.__init__(self)  # Manually calls Parent2's __init__\n",
        "        print(\"Child Constructor Called\")\n",
        "\n",
        "    def method3(self):\n",
        "        print(\"Method from Child\")\n",
        "\n",
        "# Creating an object of Child class\n",
        "obj = Child()\n",
        "\n",
        "# Accessing attributes from both parents\n",
        "print(obj.attr1)  # Now works!\n",
        "print(obj.attr2)  # Now works!\n",
        "\n",
        "\n",
        "# Checking MRO\n",
        "print(Child.mro())"
      ],
      "metadata": {
        "colab": {
          "base_uri": "https://localhost:8080/"
        },
        "id": "ZVwQ132B2ehg",
        "outputId": "168dae73-52ad-4750-f24a-76a40790d1b9"
      },
      "execution_count": null,
      "outputs": [
        {
          "output_type": "stream",
          "name": "stdout",
          "text": [
            "Parent1 Constructor Called\n",
            "Parent2 Constructor Called\n",
            "Child Constructor Called\n",
            "Attribute from Parent1\n",
            "Attribute from Parent2\n",
            "[<class '__main__.Child'>, <class '__main__.Parent1'>, <class '__main__.Parent2'>, <class 'object'>]\n"
          ]
        }
      ]
    },
    {
      "cell_type": "code",
      "source": [
        "# Example with super() in MRO\n",
        "\n",
        "class A:\n",
        "    def show(self):\n",
        "        print(\"A class\")\n",
        "\n",
        "class B(A):\n",
        "    def show(self):\n",
        "        print(\"B class\")\n",
        "        super().show()  # Calls A.show()\n",
        "\n",
        "class C(A):\n",
        "    def show(self):\n",
        "        print(\"C class\")\n",
        "        super().show()  # Calls A.show()\n",
        "\n",
        "class D(B, C):  # Multiple Inheritance\n",
        "    def show(self):\n",
        "        print(\"D class\")\n",
        "        super().show()  # Calls next class in MRO\n",
        "\n",
        "obj = D()\n",
        "obj.show()\n",
        "\n",
        "# Checking MRO\n",
        "print(D.mro())\n"
      ],
      "metadata": {
        "colab": {
          "base_uri": "https://localhost:8080/"
        },
        "id": "yNCimlz45GuK",
        "outputId": "1b997803-5481-4a72-b8d4-7ec2c052a0e2"
      },
      "execution_count": null,
      "outputs": [
        {
          "output_type": "stream",
          "name": "stdout",
          "text": [
            "D class\n",
            "B class\n",
            "C class\n",
            "A class\n",
            "[<class '__main__.D'>, <class '__main__.B'>, <class '__main__.C'>, <class '__main__.A'>, <class 'object'>]\n"
          ]
        }
      ]
    },
    {
      "cell_type": "markdown",
      "source": [
        "- super().show() calls the next method in the MRO.\n",
        "- Step-by-Step Execution\n",
        "1. obj.show() starts from D:\n",
        " - D.show() executes and prints \"D class\".\n",
        " - super().show() inside D calls B.show() (next in MRO).\n",
        "2. B.show() executes:\n",
        " - Prints \"B class\".\n",
        " - super().show() inside B calls C.show() (next in MRO).\n",
        "3. C.show() executes:\n",
        " - Prints \"C class\".\n",
        " - super().show() inside C calls A.show() (next in MRO).\n",
        "4. A.show() executes:\n",
        " - Prints \"A class\".\n",
        " - There is no super().show() in A, so method resolution stops."
      ],
      "metadata": {
        "id": "DufvA7yGBbo3"
      }
    },
    {
      "cell_type": "markdown",
      "source": [
        "# 19.  Explain the purpose of ‘’__str__’ and ‘__repr__’ ‘ methods in Python?\n",
        "- 1.__str__()- Readable Representation\n",
        "  - This method is designed to Returns a user-friendly string representation\n",
        "  - Used when calling print(obj) or str(obj).\n",
        "  - Good for displaying to users."
      ],
      "metadata": {
        "id": "Rk9Ea9W9CUi4"
      }
    },
    {
      "cell_type": "code",
      "source": [
        "class Car:\n",
        "    def __init__(self, brand, model):\n",
        "        self.brand = brand\n",
        "        self.model = model\n",
        "\n",
        "    def __str__(self):\n",
        "        return f\"Car: {self.brand} {self.model}\"\n",
        "\n",
        "car1 = Car(\"Toyota\", \"Camry\")\n",
        "print(car1)  # Calls __str__()\n"
      ],
      "metadata": {
        "colab": {
          "base_uri": "https://localhost:8080/"
        },
        "id": "LTHghJug9f_c",
        "outputId": "8dc1c977-f91a-4e65-cf16-5df1eb08163b"
      },
      "execution_count": null,
      "outputs": [
        {
          "output_type": "stream",
          "name": "stdout",
          "text": [
            "Car: Toyota Camry\n"
          ]
        }
      ]
    },
    {
      "cell_type": "markdown",
      "source": [
        "2.  __repr__() - Debugging & Developer-Friendly Representation\n",
        "- Used for official representations of objects.\n",
        "- Returns a developer-friendly string representation\n",
        "- Useful for debugging and recreating objects.\n",
        "- Called when using repr(obj) or when debugging (obj in interactive mode)."
      ],
      "metadata": {
        "id": "KUBsLeBKEPiB"
      }
    },
    {
      "cell_type": "code",
      "source": [
        "class Car:\n",
        "    def __init__(self, brand, model):\n",
        "        self.brand = brand\n",
        "        self.model = model\n",
        "\n",
        "    def __repr__(self):\n",
        "        return f\"Car('{self.brand}', '{self.model}')\"\n",
        "\n",
        "car1 = Car(\"Toyota\", \"Camry\")\n",
        "print(repr(car1))  # Calls __repr__()\n"
      ],
      "metadata": {
        "colab": {
          "base_uri": "https://localhost:8080/"
        },
        "id": "PuJPBP79EH-z",
        "outputId": "0bb01f0f-2a8b-4226-bbae-6b04e68a757d"
      },
      "execution_count": null,
      "outputs": [
        {
          "output_type": "stream",
          "name": "stdout",
          "text": [
            "Car('Toyota', 'Camry')\n"
          ]
        }
      ]
    },
    {
      "cell_type": "code",
      "source": [
        "# Using Both __str__() and __repr__() Together :- If both methods are defined, Python prefers __str__() when printing. Otherwise, it falls back to __repr__().\n",
        "\n",
        "class Car:\n",
        "    def __init__(self, brand, model):\n",
        "        self.brand = brand\n",
        "        self.model = model\n",
        "\n",
        "    def __str__(self):\n",
        "        return f\"Car: {self.brand} {self.model}\"\n",
        "\n",
        "    def __repr__(self):\n",
        "        return f\"Car('{self.brand}', '{self.model}')\"\n",
        "\n",
        "car1 = Car(\"Toyota\", \"Camry\")\n",
        "print(car1)         # Calls __str__()\n",
        "print(repr(car1))   # Calls __repr__()\n"
      ],
      "metadata": {
        "colab": {
          "base_uri": "https://localhost:8080/"
        },
        "id": "mcB9zf8qFCqM",
        "outputId": "8105bf5d-d0f6-44bd-82b1-f2f81ecd68ac"
      },
      "execution_count": null,
      "outputs": [
        {
          "output_type": "stream",
          "name": "stdout",
          "text": [
            "Car: Toyota Camry\n",
            "Car('Toyota', 'Camry')\n"
          ]
        }
      ]
    },
    {
      "cell_type": "code",
      "source": [
        "# What If __str__() is Missing? :- If __str__() is not defined, Python automatically falls back to __repr__().\n",
        "\n",
        "class Car:\n",
        "    def __init__(self, brand, model):\n",
        "        self.brand = brand\n",
        "        self.model = model\n",
        "\n",
        "    def __repr__(self):\n",
        "        return f\"Car('{self.brand}', '{self.model}')\"\n",
        "\n",
        "car1 = Car(\"Toyota\", \"Camry\")\n",
        "print(car1)  # Falls back to __repr__()\n"
      ],
      "metadata": {
        "colab": {
          "base_uri": "https://localhost:8080/"
        },
        "id": "vVGHGn6MFZ1a",
        "outputId": "da14fdff-309c-4730-c765-8ad7045817a5"
      },
      "execution_count": null,
      "outputs": [
        {
          "output_type": "stream",
          "name": "stdout",
          "text": [
            "Car('Toyota', 'Camry')\n"
          ]
        }
      ]
    },
    {
      "cell_type": "code",
      "source": [
        "# When to Use Which?\n",
        "1.   Use __str__() when you need a readable, user-friendly representation (like displaying objects in a UI).\n",
        "2.   Use __repr__() when you need a detailed, unambiguous representation (like logging, debugging, or recreating objects in code)."
      ],
      "metadata": {
        "id": "ILcUCnIeFq1C"
      },
      "execution_count": null,
      "outputs": []
    },
    {
      "cell_type": "markdown",
      "source": [
        "# 20. What is the significance of the ‘super()’ function in Python ?\n",
        "- The super() function in Python is used to call methods from a parent (or superclass) in a child (or subclass). It is commonly used in inheritance to extend or override parent class methods while still maintaining their functionality.\n"
      ],
      "metadata": {
        "id": "AhXI3nsMGdap"
      }
    },
    {
      "cell_type": "code",
      "source": [
        "#  super() in Single Inheritance\n",
        "\n",
        "class Parent:\n",
        "    def greet(self):\n",
        "        print(\"Hello from Parent\")\n",
        "\n",
        "class Child(Parent):\n",
        "    def greet(self):\n",
        "        super().greet()  # Calls Parent's greet()\n",
        "        print(\"Hello from Child\")\n",
        "\n",
        "# Create an object of Child\n",
        "obj = Child()\n",
        "obj.greet()\n",
        "\n",
        "#  Here, super().greet() calls the greet() method of Parent before executing Child's greet()."
      ],
      "metadata": {
        "colab": {
          "base_uri": "https://localhost:8080/"
        },
        "id": "P3mbmIPCHM8L",
        "outputId": "fb86fbc4-3fc8-4e33-8eec-ed305b227423"
      },
      "execution_count": null,
      "outputs": [
        {
          "output_type": "stream",
          "name": "stdout",
          "text": [
            "Hello from Parent\n",
            "Hello from Child\n"
          ]
        }
      ]
    },
    {
      "cell_type": "code",
      "source": [
        "# super() in __init__() for Constructor Chaining :- When a child class extends a parent class, we often reuse the parent’s constructor using super()\n",
        "\n",
        "class Animal:\n",
        "    def __init__(self, name):\n",
        "        print(\"Animal Constructor Called\")\n",
        "        self.name = name\n",
        "\n",
        "class Dog(Animal):\n",
        "    def __init__(self, name, breed):\n",
        "        super().__init__(name)  # Calls Animal's __init__()\n",
        "        self.breed = breed\n",
        "        print(\"Dog Constructor Called\")\n",
        "\n",
        "dog = Dog(\"Buddy\", \"Labrador\")\n",
        "\n",
        "# super().__init__(name) ensures the Animal class initializes name, preventing redundant code."
      ],
      "metadata": {
        "colab": {
          "base_uri": "https://localhost:8080/"
        },
        "id": "mwtU5-C8HTc-",
        "outputId": "3a0fa3b0-9e12-49bd-f8bf-86908e67b59d"
      },
      "execution_count": null,
      "outputs": [
        {
          "output_type": "stream",
          "name": "stdout",
          "text": [
            "Animal Constructor Called\n",
            "Dog Constructor Called\n"
          ]
        }
      ]
    },
    {
      "cell_type": "code",
      "source": [
        "# super() in Multiple Inheritance :- In multiple inheritance, super() follows the MRO (Method Resolution Order).\n",
        "\n",
        "class A:\n",
        "    def show(self):\n",
        "        print(\"A class\")\n",
        "\n",
        "class B(A):\n",
        "    def show(self):\n",
        "        print(\"B class\")\n",
        "        super().show()  # Calls next class in MRO\n",
        "\n",
        "class C(A):\n",
        "    def show(self):\n",
        "        print(\"C class\")\n",
        "        super().show()  # Calls next class in MRO\n",
        "\n",
        "class D(B, C):  # Multiple Inheritance\n",
        "    def show(self):\n",
        "        print(\"D class\")\n",
        "        super().show()  # Calls next class in MRO\n",
        "\n",
        "obj = D()\n",
        "obj.show()\n",
        "\n",
        "# Checking MRO\n",
        "print(D.mro())\n",
        "\n",
        "# super() follows the MRO (D → B → C → A → object), ensuring each class gets called once"
      ],
      "metadata": {
        "colab": {
          "base_uri": "https://localhost:8080/"
        },
        "id": "j0WJb3yqI3b9",
        "outputId": "482af6f5-9937-4217-fce5-f6865f650199"
      },
      "execution_count": null,
      "outputs": [
        {
          "output_type": "stream",
          "name": "stdout",
          "text": [
            "D class\n",
            "B class\n",
            "C class\n",
            "A class\n",
            "[<class '__main__.D'>, <class '__main__.B'>, <class '__main__.C'>, <class '__main__.A'>, <class 'object'>]\n"
          ]
        }
      ]
    },
    {
      "cell_type": "code",
      "source": [
        "#  Using super() in @classmethod\n",
        "\n",
        "class Parent:\n",
        "    @classmethod\n",
        "    def greet(cls):\n",
        "        print(f\"Hello from {cls.__name__} (Parent)\")\n",
        "\n",
        "class Child(Parent):\n",
        "    @classmethod\n",
        "    def greet(cls):\n",
        "        super().greet()  # Calls Parent's class method           # super().method_name()\n",
        "        print(f\"Hello from {cls.__name__} (Child)\")\n",
        "\n",
        "Child.greet()\n",
        "\n",
        "# super().greet() calls Parent.greet(), and cls.__name__ dynamically refers to the class (Child in this case)."
      ],
      "metadata": {
        "colab": {
          "base_uri": "https://localhost:8080/"
        },
        "id": "GztRhM67JJrv",
        "outputId": "d3bcb318-2dad-473d-987b-e825ce7f3c34"
      },
      "execution_count": null,
      "outputs": [
        {
          "output_type": "stream",
          "name": "stdout",
          "text": [
            "Hello from Child (Parent)\n",
            "Hello from Child (Child)\n"
          ]
        }
      ]
    },
    {
      "cell_type": "markdown",
      "source": [
        "super() in @staticmethod\n",
        "- @staticmethod does not take self or cls as parameters, so it cannot directly use super().\n",
        "- However, we can manually call the superclass’s static method using the class name."
      ],
      "metadata": {
        "id": "i1_LpFgGLItY"
      }
    },
    {
      "cell_type": "code",
      "source": [
        "# super() in @staticmethod\n",
        "\n",
        "class Parent:\n",
        "    @staticmethod\n",
        "    def greet():\n",
        "        print(\"Hello from Parent\")\n",
        "\n",
        "class Child(Parent):\n",
        "    @staticmethod\n",
        "    def greet():\n",
        "        Parent.greet()  # Directly calling Parent's method        # Parent.method_name()\n",
        "        print(\"Hello from Child\")\n",
        "\n",
        "Child.greet()\n",
        "\n",
        "# Since @staticmethod doesn’t pass cls or self, we must call the parent method explicitly (Parent.greet())."
      ],
      "metadata": {
        "colab": {
          "base_uri": "https://localhost:8080/"
        },
        "id": "TdavNTdUK5Do",
        "outputId": "ce3be477-a975-4587-d585-a7d97702a2ba"
      },
      "execution_count": null,
      "outputs": [
        {
          "output_type": "stream",
          "name": "stdout",
          "text": [
            "Hello from Parent\n",
            "Hello from Child\n"
          ]
        }
      ]
    },
    {
      "cell_type": "markdown",
      "source": [
        "# 21. What is the significance of the __del__ method in Python?\n",
        "- The __del__ method in Python is a special method, also known as a destructor, that is automatically called when an object is about to be destroyed (i.e., when it is no longer referenced).\n",
        "- Its primary purpose is to perform cleanup tasks such as closing files, releasing network connections, or freeing other system resources before the object is garbage collected."
      ],
      "metadata": {
        "id": "r00GSt_hj5vY"
      }
    },
    {
      "cell_type": "code",
      "source": [
        "class Example:\n",
        "    def __init__(self, name):\n",
        "        self.name = name\n",
        "        print(f'Object {self.name} created')\n",
        "\n",
        "    def __del__(self):\n",
        "        print(f'Object {self.name} destroyed')\n",
        "\n",
        "obj = Example(\"A\")\n",
        "del obj  # Explicitly deleting the object triggers __del__\n"
      ],
      "metadata": {
        "id": "2U0Lp2ezLs4b",
        "colab": {
          "base_uri": "https://localhost:8080/"
        },
        "outputId": "a88fd7b2-e319-45cc-8120-9d4b7cec8ae7"
      },
      "execution_count": null,
      "outputs": [
        {
          "output_type": "stream",
          "name": "stdout",
          "text": [
            "Object A created\n",
            "Object A destroyed\n"
          ]
        }
      ]
    },
    {
      "cell_type": "markdown",
      "source": [
        "# 22.  What is the difference between @staticmethod and @classmethod in Python?\n",
        "- @staticmethod (Independent Function Inside a Class)\n",
        " - It does not take the class (cls) or instance (self) as the first parameter.\n",
        " - Behaves just like a regular function but is placed inside a class for organizational purposes.\n",
        " - It cannot modify class or instance attributes."
      ],
      "metadata": {
        "id": "SJgY9fTJ6Rbn"
      }
    },
    {
      "cell_type": "code",
      "source": [
        "class MathUtils:\n",
        "    @staticmethod\n",
        "    def add(a, b):\n",
        "        return a + b  # No self or cls used\n",
        "\n",
        "# Usage\n",
        "print(MathUtils.add(3, 5))  # ✅ Output: 8\n",
        "\n",
        "#  Use Case: When a method does not need access to class or instance attributes."
      ],
      "metadata": {
        "colab": {
          "base_uri": "https://localhost:8080/"
        },
        "id": "cawrzqdoltDV",
        "outputId": "0a1b80d9-a270-4572-bf1a-6104032cb954"
      },
      "execution_count": null,
      "outputs": [
        {
          "output_type": "stream",
          "name": "stdout",
          "text": [
            "8\n"
          ]
        }
      ]
    },
    {
      "cell_type": "markdown",
      "source": [
        " @classmethod (Works on Class Level)\n",
        " - It takes cls as the first argument, which represents the class itself.\n",
        " - Can modify class-level attributes (shared across all instances).\n",
        " - Can be used to create objects (alternative constructors)."
      ],
      "metadata": {
        "id": "cjOH9I3N9JCp"
      }
    },
    {
      "cell_type": "code",
      "source": [
        "class Person:\n",
        "    species = \"Human\"  # Class attribute\n",
        "\n",
        "    @classmethod\n",
        "    def set_species(cls, new_species):\n",
        "        cls.species = new_species  # Modifies class attribute\n",
        "\n",
        "# Usage\n",
        "Person.set_species(\"Superhuman\")\n",
        "print(Person.species)  # ✅ Output: Superhuman\n",
        "\n",
        "# Use Case: When a method needs access to class attributes or should be an alternative constructor"
      ],
      "metadata": {
        "colab": {
          "base_uri": "https://localhost:8080/"
        },
        "id": "gOqDAx_p89FW",
        "outputId": "0d5f5e43-3cb6-49a0-e4b3-52b1cbe35fda"
      },
      "execution_count": null,
      "outputs": [
        {
          "output_type": "stream",
          "name": "stdout",
          "text": [
            "Superhuman\n"
          ]
        }
      ]
    },
    {
      "cell_type": "markdown",
      "source": [
        "# 23. How does polymorphism work in Python with inheritance?\n",
        "- Polymorphism allows different classes to define methods with the same name, enabling objects to be treated uniformly. When combined with inheritance, it allows child classes to override or extend the functionality of parent class methods.\n"
      ],
      "metadata": {
        "id": "tg1HiRQE9b6B"
      }
    },
    {
      "cell_type": "markdown",
      "source": [
        "1. Method Overriding (Runtime Polymorphism)\n",
        "- A child class provides a specific implementation of a method already defined in its parent class.\n",
        "- The method in the child class overrides the parent class method."
      ],
      "metadata": {
        "id": "goO-p6C0-Ca4"
      }
    },
    {
      "cell_type": "code",
      "source": [
        "# Example: Overriding a Parent Method\n",
        "\n",
        "class Animal:\n",
        "    def speak(self):\n",
        "        return \"Some sound\"\n",
        "\n",
        "class Dog(Animal):\n",
        "    def speak(self):  # Overriding parent method\n",
        "        return \"Bark\"\n",
        "\n",
        "class Cat(Animal):\n",
        "    def speak(self):  # Overriding parent method\n",
        "        return \"Meow\"\n",
        "\n",
        "# Polymorphic behavior\n",
        "animals = [Dog(), Cat(), Animal()]\n",
        "\n",
        "for animal in animals:\n",
        "    print(animal.speak())  # Calls the appropriate method\n",
        "\n",
        "# The speak() method is overridden in Dog and Cat, but the animals list treats them all as Animal, showing polymorphism in action."
      ],
      "metadata": {
        "colab": {
          "base_uri": "https://localhost:8080/"
        },
        "id": "oEgRngdb9VhB",
        "outputId": "370236af-38cb-4af3-ab4e-2a43e8c838b1"
      },
      "execution_count": null,
      "outputs": [
        {
          "output_type": "stream",
          "name": "stdout",
          "text": [
            "Bark\n",
            "Meow\n",
            "Some sound\n"
          ]
        }
      ]
    },
    {
      "cell_type": "markdown",
      "source": [
        "2. Method Overloading (Not Native in Python)\n",
        "- Python does not support method overloading (same method name, different parameters), but we can achieve similar behavior using default arguments or *args."
      ],
      "metadata": {
        "id": "fWn4M5bN-U41"
      }
    },
    {
      "cell_type": "code",
      "source": [
        "# Example: Simulating Method Overloading\n",
        "\n",
        "class Math:\n",
        "    def add(self, a, b, c=0):  # Default argument\n",
        "        return a + b + c\n",
        "\n",
        "obj = Math()\n",
        "print(obj.add(2, 3))       # Output: 5 (two arguments)\n",
        "print(obj.add(2, 3, 4))    # Output: 9 (three arguments)\n",
        "\n",
        "#  Python resolves method calls based on the number of arguments provided."
      ],
      "metadata": {
        "colab": {
          "base_uri": "https://localhost:8080/"
        },
        "id": "SL7h5652-POc",
        "outputId": "83a7fe2b-9e0f-42e1-970e-6568022f441b"
      },
      "execution_count": null,
      "outputs": [
        {
          "output_type": "stream",
          "name": "stdout",
          "text": [
            "5\n",
            "9\n"
          ]
        }
      ]
    },
    {
      "cell_type": "markdown",
      "source": [
        "3. Operator Overloading (Using __magic__ Methods)\n",
        "- Polymorphism also applies to operators by defining special methods like __add__, __mul__, etc."
      ],
      "metadata": {
        "id": "wtbCFmFb-kX0"
      }
    },
    {
      "cell_type": "code",
      "source": [
        "# Example: Overloading + Operator\n",
        "\n",
        "class Point:\n",
        "    def __init__(self, x, y):\n",
        "        self.x = x\n",
        "        self.y = y\n",
        "\n",
        "    def __add__(self, other):  # Overloads the + operator\n",
        "        return Point(self.x + other.x, self.y + other.y)\n",
        "\n",
        "    def __str__(self):\n",
        "        return f\"({self.x}, {self.y})\"\n",
        "\n",
        "p1 = Point(2, 3)\n",
        "p2 = Point(4, 5)\n",
        "p3 = p1 + p2  # Uses __add__\n",
        "print(p3)  # Output: (6, 8)\n",
        "\n",
        "# The + operator behaves differently for Point objects, demonstrating polymorphism."
      ],
      "metadata": {
        "colab": {
          "base_uri": "https://localhost:8080/"
        },
        "id": "cor0MC3C-jK4",
        "outputId": "169e9847-0eaf-4275-a26e-ca8ac2ee6680"
      },
      "execution_count": null,
      "outputs": [
        {
          "output_type": "stream",
          "name": "stdout",
          "text": [
            "(6, 8)\n"
          ]
        }
      ]
    },
    {
      "cell_type": "markdown",
      "source": [
        "4. (Dynamic Polymorphism)\n",
        "- Python’s dynamic nature allows polymorphism without explicit inheritance. If an object implements a method, it can be used interchangeably."
      ],
      "metadata": {
        "id": "iRjQrGtmBtxi"
      }
    },
    {
      "cell_type": "code",
      "source": [
        "# Example: Duck Typing\n",
        "\n",
        "class Bird:\n",
        "    def fly(self):\n",
        "        return \"Flapping wings\"\n",
        "\n",
        "class Airplane:\n",
        "    def fly(self):\n",
        "        return \"Jet engines running\"\n",
        "\n",
        "def lift_off(entity):\n",
        "    print(entity.fly())  # No need for a common base class\n",
        "\n",
        "lift_off(Bird())      # Output: Flapping wings\n",
        "lift_off(Airplane())  # Output: Jet engines running\n",
        "\n",
        "# The function lift_off() calls fly(), regardless of the object's class."
      ],
      "metadata": {
        "colab": {
          "base_uri": "https://localhost:8080/"
        },
        "id": "4QxvOrdd-zcv",
        "outputId": "65dcc27a-6d59-47f8-93d2-28bdf8a880d3"
      },
      "execution_count": null,
      "outputs": [
        {
          "output_type": "stream",
          "name": "stdout",
          "text": [
            "Flapping wings\n",
            "Jet engines running\n"
          ]
        }
      ]
    },
    {
      "cell_type": "markdown",
      "source": [
        "# 24.  What is method chaining in Python OOP?\n",
        "- Method chaining is a technique in object-oriented programming (OOP) where multiple methods are called on the same object in a single line. Each method returns the object itself (self), allowing further method calls.\n",
        "- How It Works\n",
        "  - For method chaining to work, methods should return self instead of None. This allows subsequent methods to be invoked on the returned object."
      ],
      "metadata": {
        "id": "ZLUFo9cbOQQ0"
      }
    },
    {
      "cell_type": "code",
      "source": [
        "# examples:-\n",
        "\n",
        "class Car:\n",
        "    def __init__(self, brand):\n",
        "        self.brand = brand\n",
        "        self.speed = 0\n",
        "\n",
        "    def set_speed(self, speed):\n",
        "        self.speed = speed\n",
        "        return self  # Returning self enables chaining\n",
        "\n",
        "    def accelerate(self, increase):\n",
        "        self.speed += increase\n",
        "        return self  # Returning self enables chaining\n",
        "\n",
        "    def display(self):\n",
        "        print(f\"{self.brand} is running at {self.speed} km/h\")\n",
        "        return self  # Returning self enables chaining\n",
        "\n",
        "# Using method chaining\n",
        "car = Car(\"Tesla\")\n",
        "car.set_speed(50).accelerate(20).display()\n"
      ],
      "metadata": {
        "id": "T3R4MWX8CCXB",
        "colab": {
          "base_uri": "https://localhost:8080/"
        },
        "outputId": "4831a4ef-6ae1-419c-bc75-575f43be11a5"
      },
      "execution_count": null,
      "outputs": [
        {
          "output_type": "stream",
          "name": "stdout",
          "text": [
            "Tesla is running at 70 km/h\n"
          ]
        },
        {
          "output_type": "execute_result",
          "data": {
            "text/plain": [
              "<__main__.Car at 0x7f55bc400950>"
            ]
          },
          "metadata": {},
          "execution_count": 1
        }
      ]
    },
    {
      "cell_type": "markdown",
      "source": [
        "# 25. What is the purpose of the __call__ method in Python?\n",
        "- The __call__ method in Python allows an instance of a class to be called like a function.\n",
        "- Purpose of __call__ method :-\n",
        " 1. Makes an object callable – Allows an instance to be used as a function.\n",
        " 2. Encapsulates behavior – Useful in scenarios like function wrappers or decorators.\n",
        " 3. Improves readability – Can simplify syntax when dealing with complex logic."
      ],
      "metadata": {
        "id": "at73XSoTPJHi"
      }
    },
    {
      "cell_type": "code",
      "source": [
        "# Basic __call__ Usage\n",
        "\n",
        "class Multiplier:\n",
        "    def __init__(self, factor):\n",
        "        self.factor = factor\n",
        "\n",
        "    def __call__(self, number):\n",
        "        return number * self.factor\n",
        "\n",
        "# Creating an instance\n",
        "double = Multiplier(2)\n",
        "triple = Multiplier(3)\n",
        "\n",
        "# Using the instance as a function\n",
        "print(double(5))  # Output: 10\n",
        "print(triple(5))  # Output: 15\n",
        "\n",
        "# Here, double(5) is equivalent to calling double.__call__(5), multiplying 5 by 2."
      ],
      "metadata": {
        "colab": {
          "base_uri": "https://localhost:8080/"
        },
        "id": "Hi98ytigO52I",
        "outputId": "a0acfc5c-7589-48f4-a021-8d9b7ed8ecfc"
      },
      "execution_count": null,
      "outputs": [
        {
          "output_type": "stream",
          "name": "stdout",
          "text": [
            "10\n",
            "15\n"
          ]
        }
      ]
    },
    {
      "cell_type": "code",
      "source": [
        "# Example 2: Using __call__ as a Function Wrapper\n",
        "\n",
        "class Logger:\n",
        "    def __init__(self, prefix):\n",
        "        self.prefix = prefix\n",
        "\n",
        "    def __call__(self, message):\n",
        "        print(f\"{self.prefix}: {message}\")\n",
        "\n",
        "log = Logger(\"INFO\")\n",
        "log(\"This is a log message.\")  # Output: INFO: This is a log message.\n"
      ],
      "metadata": {
        "colab": {
          "base_uri": "https://localhost:8080/"
        },
        "id": "HXuv_TBkPv_h",
        "outputId": "cefb8471-a69b-47c0-ca37-412071cc0fd2"
      },
      "execution_count": null,
      "outputs": [
        {
          "output_type": "stream",
          "name": "stdout",
          "text": [
            "INFO: This is a log message.\n"
          ]
        }
      ]
    },
    {
      "cell_type": "code",
      "source": [
        "# Example 3: __call__ in Machine Learning (Activation Function)\n",
        "\n",
        "import math\n",
        "\n",
        "class Sigmoid:\n",
        "    def __call__(self, x):\n",
        "        return 1 / (1 + math.exp(-x))\n",
        "\n",
        "sigmoid = Sigmoid()\n",
        "print(sigmoid(0))  # Output: 0.5\n",
        "print(sigmoid(2))  # Output: 0.88 (approx)\n",
        "\n",
        "# In this case, sigmoid(2) directly computes the activation function without needing a separate method."
      ],
      "metadata": {
        "colab": {
          "base_uri": "https://localhost:8080/"
        },
        "id": "WBDTe13hQRn2",
        "outputId": "87422849-c7bf-43b5-b350-e3fd5b14b41b"
      },
      "execution_count": null,
      "outputs": [
        {
          "output_type": "stream",
          "name": "stdout",
          "text": [
            "0.5\n",
            "0.8807970779778823\n"
          ]
        }
      ]
    },
    {
      "cell_type": "markdown",
      "source": [
        "# **PRACTICAL**"
      ],
      "metadata": {
        "id": "d2zpBllRQtlG"
      }
    },
    {
      "cell_type": "markdown",
      "source": [
        "# 1.   Create a parent class Animal with a method speak() that prints a generic message. Create a child class Dog that overrides the speak() method to print \"Bark!\"."
      ],
      "metadata": {
        "id": "f5wUSrb2RKiY"
      }
    },
    {
      "cell_type": "code",
      "source": [
        "class Animal:\n",
        "    def speak(self):\n",
        "        print(\"This animal makes a sound.\")\n",
        "\n",
        "class Dog(Animal):\n",
        "    def speak(self):\n",
        "        print(\"Bark!\")\n",
        "\n",
        "# Creating instances\n",
        "animal = Animal()\n",
        "dog = Dog()\n",
        "\n",
        "# Calling speak() method\n",
        "animal.speak()    #  it prints the generic message..\n",
        "dog.speak()       # it prints \"Bark!\", demonstrating method overriding.\n",
        "\n",
        "# The Dog class inherits from Animal and overrides the speak() method to print \"Bark!\".\n"
      ],
      "metadata": {
        "colab": {
          "base_uri": "https://localhost:8080/"
        },
        "id": "K0XFrpDAQY28",
        "outputId": "d8c08c12-f462-4458-ad6e-8ecb36dc8492"
      },
      "execution_count": null,
      "outputs": [
        {
          "output_type": "stream",
          "name": "stdout",
          "text": [
            "This animal makes a sound.\n",
            "Bark!\n"
          ]
        }
      ]
    },
    {
      "cell_type": "markdown",
      "source": [
        "# 2.  Write a program to create an abstract class Shape with a method area(). Derive classes Circle and Rectangle from it and implement the area() method in both."
      ],
      "metadata": {
        "id": "Qoy9a_tFSIIR"
      }
    },
    {
      "cell_type": "code",
      "source": [
        "from abc import ABC, abstractmethod\n",
        "import math\n",
        "\n",
        "# Abstract class\n",
        "class Shape(ABC):\n",
        "    @abstractmethod\n",
        "    def area(self):\n",
        "        pass  # Abstract method, must be implemented by subclasses\n",
        "\n",
        "# Circle class\n",
        "class Circle(Shape):\n",
        "    def __init__(self, radius):\n",
        "        self.radius = radius\n",
        "\n",
        "    def area(self):\n",
        "        return math.pi * self.radius ** 2  # πr²\n",
        "\n",
        "# Rectangle class\n",
        "class Rectangle(Shape):\n",
        "    def __init__(self, length, width):\n",
        "        self.length = length\n",
        "        self.width = width\n",
        "\n",
        "    def area(self):\n",
        "        return self.length * self.width  # length × width\n",
        "\n",
        "# Creating instances\n",
        "circle = Circle(5)\n",
        "rectangle = Rectangle(4, 6)\n",
        "\n",
        "# Calculating and printing areas\n",
        "print(f\"Circle Area: {circle.area():.2f}\")       # Output: 78.54\n",
        "print(f\"Rectangle Area: {rectangle.area()}\")     # Output: 24\n"
      ],
      "metadata": {
        "colab": {
          "base_uri": "https://localhost:8080/"
        },
        "id": "WplmGCy1SGhZ",
        "outputId": "86f27cdf-e459-45a6-ee7b-056d2b583a22"
      },
      "execution_count": null,
      "outputs": [
        {
          "output_type": "stream",
          "name": "stdout",
          "text": [
            "Circle Area: 78.54\n",
            "Rectangle Area: 24\n"
          ]
        }
      ]
    },
    {
      "cell_type": "markdown",
      "source": [
        "# 3. Implement a multi-level inheritance scenario where a class Vehicle has an attribute type. Derive a class Car and further derive a class ElectricCar that adds a battery attribute."
      ],
      "metadata": {
        "id": "AjCHHOfaTAq4"
      }
    },
    {
      "cell_type": "code",
      "source": [
        "# Base class\n",
        "class Vehicle:\n",
        "    def __init__(self, vehicle_type):\n",
        "        self.vehicle_type = vehicle_type\n",
        "\n",
        "    def display_type(self):\n",
        "        print(f\"Vehicle Type: {self.vehicle_type}\")\n",
        "\n",
        "# Derived class from Vehicle\n",
        "class Car(Vehicle):\n",
        "    def __init__(self, brand, model, vehicle_type=\"Car\"):\n",
        "        super().__init__(vehicle_type)  # Call the parent constructor\n",
        "        self.brand = brand\n",
        "        self.model = model\n",
        "\n",
        "    def display_car_info(self):\n",
        "        print(f\"Car: {self.brand} {self.model}\")\n",
        "\n",
        "# Further derived class from Car\n",
        "class ElectricCar(Car):\n",
        "    def __init__(self, brand, model, battery_capacity):\n",
        "        super().__init__(brand, model)  # Call the Car constructor\n",
        "        self.battery_capacity = battery_capacity  # Additional attribute\n",
        "\n",
        "    def display_electric_car_info(self):\n",
        "        self.display_type()  # Call method from Vehicle\n",
        "        self.display_car_info()  # Call method from Car\n",
        "        print(f\"Battery Capacity: {self.battery_capacity} kWh\")\n",
        "\n",
        "# Creating an instance of ElectricCar\n",
        "tesla = ElectricCar(\"Tesla\", \"Model S\", 100)\n",
        "\n",
        "# Displaying details\n",
        "tesla.display_electric_car_info()\n"
      ],
      "metadata": {
        "colab": {
          "base_uri": "https://localhost:8080/"
        },
        "id": "9RG8yVkvS9XT",
        "outputId": "c078c9f4-3341-4b09-efca-d24f7ff6be56"
      },
      "execution_count": null,
      "outputs": [
        {
          "output_type": "stream",
          "name": "stdout",
          "text": [
            "Vehicle Type: Car\n",
            "Car: Tesla Model S\n",
            "Battery Capacity: 100 kWh\n"
          ]
        }
      ]
    },
    {
      "cell_type": "markdown",
      "source": [
        "# 4. Demonstrate polymorphism by creating a base class Bird with a method fly(). Create two derived classes Sparrow and Penguin that override the fly() method."
      ],
      "metadata": {
        "id": "ALofLM4HTf2i"
      }
    },
    {
      "cell_type": "code",
      "source": [
        "# Base class\n",
        "class Bird:\n",
        "    def fly(self):\n",
        "        print(\"Some birds can fly.\")\n",
        "\n",
        "# Derived class Sparrow\n",
        "class Sparrow(Bird):\n",
        "    def fly(self):\n",
        "        print(\"Sparrow flies high in the sky!\")\n",
        "\n",
        "# Derived class Penguin\n",
        "class Penguin(Bird):\n",
        "    def fly(self):\n",
        "        print(\"Penguins cannot fly, but they swim well!\")\n",
        "\n",
        "# Function demonstrating polymorphism\n",
        "def demonstrate_flight(bird):\n",
        "    bird.fly()  # Calls the overridden method based on the object type\n",
        "\n",
        "# Creating instances\n",
        "sparrow = Sparrow()\n",
        "penguin = Penguin()\n",
        "\n",
        "# Demonstrating polymorphism\n",
        "demonstrate_flight(sparrow)  # Output: Sparrow flies high in the sky!\n",
        "demonstrate_flight(penguin)  # Output: Penguins cannot fly, but they swim well!\n"
      ],
      "metadata": {
        "colab": {
          "base_uri": "https://localhost:8080/"
        },
        "id": "wjGERabwTVfR",
        "outputId": "16df2150-3534-43fc-82f4-2eead566ac75"
      },
      "execution_count": null,
      "outputs": [
        {
          "output_type": "stream",
          "name": "stdout",
          "text": [
            "Sparrow flies high in the sky!\n",
            "Penguins cannot fly, but they swim well!\n"
          ]
        }
      ]
    },
    {
      "cell_type": "markdown",
      "source": [
        "# 5. Write a program to demonstrate encapsulation by creating a class BankAccount with private attributes balance and methods to deposit, withdraw, and check balance."
      ],
      "metadata": {
        "id": "gbpKnuN8T02i"
      }
    },
    {
      "cell_type": "code",
      "source": [
        "class BankAccount:\n",
        "    def __init__(self, account_holder, initial_balance=0):\n",
        "        self.account_holder = account_holder\n",
        "        self.__balance = initial_balance  # Private attribute\n",
        "\n",
        "    def deposit(self, amount):\n",
        "        if amount > 0:\n",
        "            self.__balance += amount\n",
        "            print(f\"Deposited: ${amount}\")\n",
        "        else:\n",
        "            print(\"Deposit amount must be positive.\")\n",
        "\n",
        "    def withdraw(self, amount):\n",
        "        if 0 < amount <= self.__balance:\n",
        "            self.__balance -= amount\n",
        "            print(f\"Withdrawn: ${amount}\")\n",
        "        else:\n",
        "            print(\"Insufficient funds or invalid amount.\")\n",
        "\n",
        "    def check_balance(self):\n",
        "        print(f\"{self.account_holder}'s Balance: ${self.__balance}\")\n",
        "\n",
        "# Creating an account\n",
        "account = BankAccount(\"John Doe\", 1000)\n",
        "\n",
        "# Performing transactions\n",
        "account.deposit(500)       # Deposited: $500\n",
        "account.withdraw(300)      # Withdrawn: $300\n",
        "account.check_balance()    # John Doe's Balance: $1200\n",
        "\n",
        "# Trying to access the private attribute directly (will raise an AttributeError)\n",
        "# print(account.__balance)  # Uncommenting this line will cause an error\n"
      ],
      "metadata": {
        "colab": {
          "base_uri": "https://localhost:8080/"
        },
        "id": "oPqkRmNiTxjG",
        "outputId": "ee8fad92-0925-40cf-e314-fcac4c26e69e"
      },
      "execution_count": null,
      "outputs": [
        {
          "output_type": "stream",
          "name": "stdout",
          "text": [
            "Deposited: $500\n",
            "Withdrawn: $300\n",
            "John Doe's Balance: $1200\n"
          ]
        }
      ]
    },
    {
      "cell_type": "markdown",
      "source": [
        "# 6.  Demonstrate runtime polymorphism using a method play() in a base class Instrument. Derive classes Guitar and Piano that implement their own version of play()."
      ],
      "metadata": {
        "id": "HpU7AiqLUEPl"
      }
    },
    {
      "cell_type": "code",
      "source": [
        "#  example of runtime polymorphism using method overriding in Python:\n",
        "\n",
        "# Base class\n",
        "class Instrument:\n",
        "    def play(self):\n",
        "        print(\"Playing an instrument.\")\n",
        "\n",
        "# Derived class Guitar\n",
        "class Guitar(Instrument):\n",
        "    def play(self):\n",
        "        print(\"Strumming the guitar!\")\n",
        "\n",
        "# Derived class Piano\n",
        "class Piano(Instrument):\n",
        "    def play(self):\n",
        "        print(\"Playing the piano keys!\")\n",
        "\n",
        "# Function to demonstrate runtime polymorphism\n",
        "def perform(instrument):\n",
        "    instrument.play()  # Calls the overridden method based on the object type\n",
        "\n",
        "# Creating instances\n",
        "guitar = Guitar()\n",
        "piano = Piano()\n",
        "\n",
        "# Demonstrating runtime polymorphism\n",
        "perform(guitar)  # Output: Strumming the guitar!\n",
        "perform(piano)   # Output: Playing the piano keys!\n"
      ],
      "metadata": {
        "colab": {
          "base_uri": "https://localhost:8080/"
        },
        "id": "jZS3sZEwUAXO",
        "outputId": "fe8dea38-8fb8-4561-d85c-cb58eeb553cd"
      },
      "execution_count": null,
      "outputs": [
        {
          "output_type": "stream",
          "name": "stdout",
          "text": [
            "Strumming the guitar!\n",
            "Playing the piano keys!\n"
          ]
        }
      ]
    },
    {
      "cell_type": "markdown",
      "source": [
        "#  7. Create a class MathOperations with a class method add_numbers() to add two numbers and a static method subtract_numbers() to subtract two numbers."
      ],
      "metadata": {
        "id": "xPcikLDCVLiD"
      }
    },
    {
      "cell_type": "code",
      "source": [
        "class MathOperations:\n",
        "    @classmethod\n",
        "    def add_numbers(cls, a, b):\n",
        "        return a + b  # Class method can access class-level attributes if needed\n",
        "\n",
        "    @staticmethod\n",
        "    def subtract_numbers(a, b):\n",
        "        return a - b  # Static method doesn't rely on class attributes\n",
        "\n",
        "# Using class method\n",
        "sum_result = MathOperations.add_numbers(10, 5)\n",
        "print(f\"Sum: {sum_result}\")  # Output: Sum: 15\n",
        "\n",
        "# Using static method\n",
        "difference_result = MathOperations.subtract_numbers(10, 5)\n",
        "print(f\"Difference: {difference_result}\")  # Output: Difference: 5\n"
      ],
      "metadata": {
        "colab": {
          "base_uri": "https://localhost:8080/"
        },
        "id": "XlOcwi_4VHMH",
        "outputId": "966c58aa-0346-4f1a-bfcf-309a2e9e1cdb"
      },
      "execution_count": null,
      "outputs": [
        {
          "output_type": "stream",
          "name": "stdout",
          "text": [
            "Sum: 15\n",
            "Difference: 5\n"
          ]
        }
      ]
    },
    {
      "cell_type": "markdown",
      "source": [
        "#  8. Implement a class Person with a class method to count the total number of persons created."
      ],
      "metadata": {
        "id": "yEEpXySpVaI0"
      }
    },
    {
      "cell_type": "code",
      "source": [
        "class Person:\n",
        "    count = 0  # Class variable to track the number of persons\n",
        "\n",
        "    def __init__(self, name):\n",
        "        self.name = name\n",
        "        Person.count += 1  # Increment count whenever a new object is created\n",
        "\n",
        "    @classmethod\n",
        "    def total_persons(cls):\n",
        "        return f\"Total Persons Created: {cls.count}\"  # Access class attribute\n",
        "\n",
        "# Creating instances\n",
        "p1 = Person(\"Alice\")\n",
        "p2 = Person(\"Bob\")\n",
        "p3 = Person(\"Charlie\")\n",
        "\n",
        "# Calling class method\n",
        "print(Person.total_persons())  # Output: Total Persons Created: 3\n"
      ],
      "metadata": {
        "colab": {
          "base_uri": "https://localhost:8080/"
        },
        "id": "ya15ozAAVWxU",
        "outputId": "34b306f2-6fc9-483e-d323-8043f76115e9"
      },
      "execution_count": null,
      "outputs": [
        {
          "output_type": "stream",
          "name": "stdout",
          "text": [
            "Total Persons Created: 3\n"
          ]
        }
      ]
    },
    {
      "cell_type": "markdown",
      "source": [
        "# 9. Write a class Fraction with attributes numerator and denominator. Override the str method to display the fraction as \"numerator/denominator\""
      ],
      "metadata": {
        "id": "eGCv7muKVluu"
      }
    },
    {
      "cell_type": "code",
      "source": [
        "class Fraction:\n",
        "    def __init__(self, numerator, denominator):\n",
        "        if denominator == 0:\n",
        "            raise ValueError(\"Denominator cannot be zero.\")  # Prevent division by zero\n",
        "        self.numerator = numerator\n",
        "        self.denominator = denominator\n",
        "\n",
        "    def __str__(self):\n",
        "        return f\"{self.numerator}/{self.denominator}\"  # String representation of fraction\n",
        "\n",
        "# Creating instances\n",
        "frac1 = Fraction(3, 4)\n",
        "frac2 = Fraction(7, 2)\n",
        "\n",
        "# Printing fractions\n",
        "print(frac1)  # Output: 3/4\n",
        "print(frac2)  # Output: 7/2\n"
      ],
      "metadata": {
        "colab": {
          "base_uri": "https://localhost:8080/"
        },
        "id": "5WZO-yoxViHs",
        "outputId": "a6215f39-1097-46e3-c51f-550be534bda3"
      },
      "execution_count": null,
      "outputs": [
        {
          "output_type": "stream",
          "name": "stdout",
          "text": [
            "3/4\n",
            "7/2\n"
          ]
        }
      ]
    },
    {
      "cell_type": "markdown",
      "source": [
        "# 10. Demonstrate operator overloading by creating a class Vector and overriding the add method to add two vectors"
      ],
      "metadata": {
        "id": "UToNjrnSV2Cf"
      }
    },
    {
      "cell_type": "code",
      "source": [
        "class Vector:\n",
        "    def __init__(self, x, y):\n",
        "        self.x = x\n",
        "        self.y = y\n",
        "\n",
        "    def __add__(self, other):\n",
        "        if not isinstance(other, Vector):\n",
        "            raise TypeError(\"Operand must be an instance of Vector\")\n",
        "        return Vector(self.x + other.x, self.y + other.y)  # Add corresponding components\n",
        "\n",
        "    def __str__(self):\n",
        "        return f\"({self.x}, {self.y})\"  # String representation for easy printing\n",
        "\n",
        "# Creating vector instances\n",
        "v1 = Vector(3, 4)\n",
        "v2 = Vector(1, 2)\n",
        "\n",
        "# Adding vectors using the overloaded + operator\n",
        "result = v1 + v2\n",
        "\n",
        "# Printing result\n",
        "print(f\"v1: {v1}\")  # Output: (3, 4)\n",
        "print(f\"v2: {v2}\")  # Output: (1, 2)\n",
        "print(f\"v1 + v2: {result}\")  # Output: (4, 6)\n"
      ],
      "metadata": {
        "colab": {
          "base_uri": "https://localhost:8080/"
        },
        "id": "RoQYaBwNVyk3",
        "outputId": "ae1f58c3-cdad-449a-d1a4-9fe7a35d9c2a"
      },
      "execution_count": null,
      "outputs": [
        {
          "output_type": "stream",
          "name": "stdout",
          "text": [
            "v1: (3, 4)\n",
            "v2: (1, 2)\n",
            "v1 + v2: (4, 6)\n"
          ]
        }
      ]
    },
    {
      "cell_type": "markdown",
      "source": [
        "#  11. Create a class Person with attributes name and age. Add a method greet() that prints \"Hello, my name is {name} and I am {age} years old."
      ],
      "metadata": {
        "id": "HUGLsNfq5wIK"
      }
    },
    {
      "cell_type": "code",
      "source": [
        "class Person:\n",
        "    def __init__(self, name, age):\n",
        "        self.name = name\n",
        "        self.age = age\n",
        "\n",
        "    def greet(self):\n",
        "        print(f\"Hello, my name is {self.name} and I am {self.age} years old.\")\n",
        "\n",
        "# Creating instances\n",
        "p1 = Person(\"Alice\", 25)\n",
        "p2 = Person(\"Bob\", 30)\n",
        "\n",
        "# Calling the greet method\n",
        "p1.greet()  # Output: Hello, my name is Alice and I am 25 years old.\n",
        "p2.greet()  # Output: Hello, my name is Bob and I am 30 years old.\n"
      ],
      "metadata": {
        "colab": {
          "base_uri": "https://localhost:8080/"
        },
        "id": "JZFeLe0Y5qkc",
        "outputId": "8903b161-1237-4d99-eba9-2fa328f97284"
      },
      "execution_count": null,
      "outputs": [
        {
          "output_type": "stream",
          "name": "stdout",
          "text": [
            "Hello, my name is Alice and I am 25 years old.\n",
            "Hello, my name is Bob and I am 30 years old.\n"
          ]
        }
      ]
    },
    {
      "cell_type": "markdown",
      "source": [
        "# 12. Implement a class Student with attributes name and grades. Create a method average_grade() to compute the average of the grades."
      ],
      "metadata": {
        "id": "_yhYdIOn6K0_"
      }
    },
    {
      "cell_type": "code",
      "source": [
        "class Student:\n",
        "    def __init__(self, name, grades):\n",
        "        self.name = name\n",
        "        self.grades = grades  # List of grades\n",
        "\n",
        "    def average_grade(self):\n",
        "        if not self.grades:\n",
        "            return 0  # Handle case when no grades are present\n",
        "        return sum(self.grades) / len(self.grades)  # Compute average\n",
        "\n",
        "    def __str__(self):\n",
        "        return f\"Student: {self.name}, Average Grade: {self.average_grade():.2f}\"\n",
        "\n",
        "# Creating student instances\n",
        "s1 = Student(\"Alice\", [85, 90, 78, 92])\n",
        "s2 = Student(\"Bob\", [88, 76, 95, 89, 91])\n",
        "\n",
        "# Printing average grades\n",
        "print(s1)  # Output: Student: Alice, Average Grade: 86.25\n",
        "print(s2)  # Output: Student: Bob, Average Grade: 87.80\n"
      ],
      "metadata": {
        "colab": {
          "base_uri": "https://localhost:8080/"
        },
        "id": "0aaZN3vA6HUJ",
        "outputId": "34f8e2a7-8ded-4bf5-93e3-b7242a634651"
      },
      "execution_count": null,
      "outputs": [
        {
          "output_type": "stream",
          "name": "stdout",
          "text": [
            "Student: Alice, Average Grade: 86.25\n",
            "Student: Bob, Average Grade: 87.80\n"
          ]
        }
      ]
    },
    {
      "cell_type": "markdown",
      "source": [
        "# 13. Create a class Rectangle with methods set_dimensions() to set the dimensions and area() to calculate the area"
      ],
      "metadata": {
        "id": "Xwi3Hsmp6Yiy"
      }
    },
    {
      "cell_type": "code",
      "source": [
        "class Rectangle:\n",
        "    def __init__(self, length=0, width=0):\n",
        "        self.length = length\n",
        "        self.width = width\n",
        "\n",
        "    def set_dimensions(self, length, width):\n",
        "        self.length = length\n",
        "        self.width = width\n",
        "\n",
        "    def area(self):\n",
        "        return self.length * self.width\n",
        "\n",
        "    def __str__(self):\n",
        "        return f\"Rectangle (Length: {self.length}, Width: {self.width}, Area: {self.area()})\"\n",
        "\n",
        "# Creating an instance\n",
        "rect = Rectangle()\n",
        "\n",
        "# Setting dimensions\n",
        "rect.set_dimensions(10, 5)\n",
        "\n",
        "# Printing details\n",
        "print(rect)  # Output: Rectangle (Length: 10, Width: 5, Area: 50)\n"
      ],
      "metadata": {
        "colab": {
          "base_uri": "https://localhost:8080/"
        },
        "id": "CGVznAoU6VtE",
        "outputId": "e52ad57a-5835-48ab-e696-00fa7001cafd"
      },
      "execution_count": null,
      "outputs": [
        {
          "output_type": "stream",
          "name": "stdout",
          "text": [
            "Rectangle (Length: 10, Width: 5, Area: 50)\n"
          ]
        }
      ]
    },
    {
      "cell_type": "markdown",
      "source": [
        "#  14. Create a class Employee with a method calculate_salary() that computes the salary based on hours worked and hourly rate. Create a derived class Manager that adds a bonus to the salary."
      ],
      "metadata": {
        "id": "WtSKYeum6lWj"
      }
    },
    {
      "cell_type": "code",
      "source": [
        "# Base class\n",
        "class Employee:\n",
        "    def __init__(self, name, hours_worked, hourly_rate):\n",
        "        self.name = name\n",
        "        self.hours_worked = hours_worked\n",
        "        self.hourly_rate = hourly_rate\n",
        "\n",
        "    def calculate_salary(self):\n",
        "        return self.hours_worked * self.hourly_rate  # Salary = Hours × Rate\n",
        "\n",
        "    def __str__(self):\n",
        "        return f\"Employee: {self.name}, Salary: ${self.calculate_salary():.2f}\"\n",
        "\n",
        "# Derived class\n",
        "class Manager(Employee):\n",
        "    def __init__(self, name, hours_worked, hourly_rate, bonus):\n",
        "        super().__init__(name, hours_worked, hourly_rate)\n",
        "        self.bonus = bonus\n",
        "\n",
        "    def calculate_salary(self):\n",
        "        return super().calculate_salary() + self.bonus  # Adds bonus to salary\n",
        "\n",
        "    def __str__(self):\n",
        "        return f\"Manager: {self.name}, Salary: ${self.calculate_salary():.2f} (Including Bonus: ${self.bonus})\"\n",
        "\n",
        "# Creating instances\n",
        "emp = Employee(\"Alice\", 40, 20)  # 40 hours, $20/hour\n",
        "mgr = Manager(\"Bob\", 40, 30, 500)  # 40 hours, $30/hour, $500 bonus\n",
        "\n",
        "# Printing salaries\n",
        "print(emp)  # Output: Employee: Alice, Salary: $800.00\n",
        "print(mgr)  # Output: Manager: Bob, Salary: $1700.00 (Including Bonus: $500)\n"
      ],
      "metadata": {
        "colab": {
          "base_uri": "https://localhost:8080/"
        },
        "id": "YvgbtN5s6iQY",
        "outputId": "f0ab89b7-c49f-4082-d09a-b42598fee81f"
      },
      "execution_count": null,
      "outputs": [
        {
          "output_type": "stream",
          "name": "stdout",
          "text": [
            "Employee: Alice, Salary: $800.00\n",
            "Manager: Bob, Salary: $1700.00 (Including Bonus: $500)\n"
          ]
        }
      ]
    },
    {
      "cell_type": "markdown",
      "source": [
        "# 15. Create a class Product with attributes name, price, and quantity. Implement a method total_price() that calculates the total price of the product."
      ],
      "metadata": {
        "id": "gYI6PWJI62zY"
      }
    },
    {
      "cell_type": "code",
      "source": [
        "class Product:\n",
        "    def __init__(self, name, price, quantity):\n",
        "        self.name = name\n",
        "        self.price = price\n",
        "        self.quantity = quantity\n",
        "\n",
        "    def total_price(self):\n",
        "        return self.price * self.quantity  # Total price = price × quantity\n",
        "\n",
        "    def __str__(self):\n",
        "        return f\"Product: {self.name}, Price: ${self.price:.2f}, Quantity: {self.quantity}, Total: ${self.total_price():.2f}\"\n",
        "\n",
        "# Creating product instances\n",
        "p1 = Product(\"Laptop\", 1000, 2)\n",
        "p2 = Product(\"Smartphone\", 800, 3)\n",
        "\n",
        "# Printing product details\n",
        "print(p1)  # Output: Product: Laptop, Price: $1000.00, Quantity: 2, Total: $2000.00\n",
        "print(p2)  # Output: Product: Smartphone, Price: $800.00, Quantity: 3, Total: $2400.00\n"
      ],
      "metadata": {
        "colab": {
          "base_uri": "https://localhost:8080/"
        },
        "id": "aF2lo3Th6zRV",
        "outputId": "b58a197c-3ed0-4cb7-d053-ed9abfdb463b"
      },
      "execution_count": null,
      "outputs": [
        {
          "output_type": "stream",
          "name": "stdout",
          "text": [
            "Product: Laptop, Price: $1000.00, Quantity: 2, Total: $2000.00\n",
            "Product: Smartphone, Price: $800.00, Quantity: 3, Total: $2400.00\n"
          ]
        }
      ]
    },
    {
      "cell_type": "markdown",
      "source": [
        "#  16. Create a class Animal with an abstract method sound(). Create two derived classes Cow and Sheep that implement the sound() method"
      ],
      "metadata": {
        "id": "-z2vZUyS7Dwt"
      }
    },
    {
      "cell_type": "code",
      "source": [
        "from abc import ABC, abstractmethod\n",
        "\n",
        "# Abstract Base Class\n",
        "class Animal(ABC):\n",
        "    @abstractmethod\n",
        "    def sound(self):\n",
        "        pass  # Abstract method to be implemented by subclasses\n",
        "\n",
        "# Derived Class: Cow\n",
        "class Cow(Animal):\n",
        "    def sound(self):\n",
        "        return \"Moo!\"\n",
        "\n",
        "# Derived Class: Sheep\n",
        "class Sheep(Animal):\n",
        "    def sound(self):\n",
        "        return \"Baa!\"\n",
        "\n",
        "# Creating instances\n",
        "cow = Cow()\n",
        "sheep = Sheep()\n",
        "\n",
        "# Printing animal sounds\n",
        "print(f\"Cow: {cow.sound()}\")  # Output: Cow: Moo!\n",
        "print(f\"Sheep: {sheep.sound()}\")  # Output: Sheep: Baa!\n"
      ],
      "metadata": {
        "colab": {
          "base_uri": "https://localhost:8080/"
        },
        "id": "-OGW2VN67Ak-",
        "outputId": "8567c44e-101e-497e-9225-e5836e30395b"
      },
      "execution_count": null,
      "outputs": [
        {
          "output_type": "stream",
          "name": "stdout",
          "text": [
            "Cow: Moo!\n",
            "Sheep: Baa!\n"
          ]
        }
      ]
    },
    {
      "cell_type": "markdown",
      "source": [
        "#  17. Create a class Book with attributes title, author, and year_published. Add a method get_book_info() that returns a formatted string with the book's details"
      ],
      "metadata": {
        "id": "NGc4WWKB7On9"
      }
    },
    {
      "cell_type": "code",
      "source": [
        "class Book:\n",
        "    def __init__(self, title, author, year_published):\n",
        "        self.title = title\n",
        "        self.author = author\n",
        "        self.year_published = year_published\n",
        "\n",
        "    def get_book_info(self):\n",
        "        return f\"'{self.title}' by {self.author}, published in {self.year_published}\"\n",
        "\n",
        "    def __str__(self):\n",
        "        return self.get_book_info()  # Allows easy printing\n",
        "\n",
        "# Creating book instances\n",
        "book1 = Book(\"To Kill a Mockingbird\", \"Harper Lee\", 1960)\n",
        "book2 = Book(\"1984\", \"George Orwell\", 1949)\n",
        "\n",
        "# Printing book information\n",
        "print(book1)  # Output: 'To Kill a Mockingbird' by Harper Lee, published in 1960\n",
        "print(book2)  # Output: '1984' by George Orwell, published in 1949\n"
      ],
      "metadata": {
        "colab": {
          "base_uri": "https://localhost:8080/"
        },
        "id": "Ud2HpZrl7Lrt",
        "outputId": "55023e9c-9676-46a4-ac81-4699c4b20d20"
      },
      "execution_count": null,
      "outputs": [
        {
          "output_type": "stream",
          "name": "stdout",
          "text": [
            "'To Kill a Mockingbird' by Harper Lee, published in 1960\n",
            "'1984' by George Orwell, published in 1949\n"
          ]
        }
      ]
    },
    {
      "cell_type": "markdown",
      "source": [
        "#  18. Create a class House with attributes address and price. Create a derived class Mansion that adds an attribute number_of_rooms."
      ],
      "metadata": {
        "id": "ZTddg09w7Z8j"
      }
    },
    {
      "cell_type": "code",
      "source": [
        "class House:\n",
        "    def __init__(self, address, price):\n",
        "        self.address = address\n",
        "        self.price = price\n",
        "\n",
        "    def get_info(self):\n",
        "        return f\"House located at {self.address}, priced at ${self.price:,}\"\n",
        "\n",
        "    def __str__(self):\n",
        "        return self.get_info()\n",
        "\n",
        "# Derived Class: Mansion\n",
        "class Mansion(House):\n",
        "    def __init__(self, address, price, number_of_rooms):\n",
        "        super().__init__(address, price)\n",
        "        self.number_of_rooms = number_of_rooms\n",
        "\n",
        "    def get_info(self):\n",
        "        return f\"Mansion at {self.address}, priced at ${self.price:,}, with {self.number_of_rooms} rooms\"\n",
        "\n",
        "    def __str__(self):\n",
        "        return self.get_info()\n",
        "\n",
        "# Creating instances\n",
        "house = House(\"123 Elm Street\", 250000)\n",
        "mansion = Mansion(\"456 Luxury Lane\", 5000000, 12)\n",
        "\n",
        "# Printing house details\n",
        "print(house)   # Output: House located at 123 Elm Street, priced at $250,000\n",
        "print(mansion) # Output: Mansion at 456 Luxury Lane, priced at $5,000,000, with 12 rooms\n"
      ],
      "metadata": {
        "colab": {
          "base_uri": "https://localhost:8080/"
        },
        "id": "53vYgqxG7W2l",
        "outputId": "3aa5b21a-d7c1-42a2-af55-aa42e40f664f"
      },
      "execution_count": null,
      "outputs": [
        {
          "output_type": "stream",
          "name": "stdout",
          "text": [
            "House located at 123 Elm Street, priced at $250,000\n",
            "Mansion at 456 Luxury Lane, priced at $5,000,000, with 12 rooms\n"
          ]
        }
      ]
    }
  ]
}